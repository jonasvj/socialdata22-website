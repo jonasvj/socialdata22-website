{
 "cells": [
  {
   "cell_type": "code",
   "execution_count": null,
   "id": "451a600e",
   "metadata": {
    "cell_id": "8762b3cb-f0ea-4bf2-accb-e90d9bbfa3a0",
    "deepnote_cell_type": "code",
    "deepnote_to_be_reexecuted": false,
    "execution_millis": 0,
    "execution_start": 1652109309310,
    "source_hash": "7fc4bd2d"
   },
   "outputs": [],
   "source": [
    "import json\n",
    "import numpy as np\n",
    "import pandas as pd\n",
    "import plotly.express as px\n",
    "import matplotlib.pyplot as plt\n",
    "import seaborn as sns\n",
    "from functools import reduce\n",
    "from urllib.request import urlopen\n",
    "import folium\n",
    "import branca\n",
    "import scipy as sp\n",
    "import scipy.ndimage\n",
    "import geojsoncontour\n",
    "from math import radians\n",
    "from folium import plugins\n",
    "from scipy.interpolate import griddata\n",
    "from sklearn.metrics.pairwise import haversine_distances\n",
    "\n",
    "import warnings\n",
    "warnings.filterwarnings(\"ignore\")\n",
    "!pip install openpyxl\n",
    "\n",
    "%matplotlib inline"
   ]
  },
  {
   "cell_type": "markdown",
   "id": "f112b86d",
   "metadata": {
    "cell_id": "00001-439976ee-f207-4b3d-aded-219d3574a5a6",
    "deepnote_cell_type": "markdown"
   },
   "source": [
    "# Social data analysis and visualizations - Final project\n",
    "## Recycling behaviour in New York City"
   ]
  },
  {
   "cell_type": "markdown",
   "id": "32f09c08",
   "metadata": {},
   "source": [
    "Here you can find a link to our website: ..\n",
    "\n",
    "NOTE: the notbooks need to be downloaded and press \"Trusted\" in the right corner, for all the plots to render correctly."
   ]
  },
  {
   "cell_type": "markdown",
   "id": "2db53a9e",
   "metadata": {
    "cell_id": "00002-8b6df984-2837-4b38-bcf8-6cbb7b21448b",
    "deepnote_cell_type": "markdown",
    "tags": []
   },
   "source": [
    "### Motivation"
   ]
  },
  {
   "cell_type": "markdown",
   "id": "816f8a9d",
   "metadata": {
    "cell_id": "00003-49a0a87b-fb8b-46e3-8320-1625236027b1",
    "deepnote_cell_type": "markdown",
    "tags": []
   },
   "source": [
    "Recycling is a key component of modern waste reduction and one of the main aspects of green cities. It promotes environmental sustainability by removing raw material input and redirecting waste output in the economic system. Recycling converts the things we throw away into new items, making sure that none of the energy and raw materials used to make them go to waste. It also prevents air and ground pollution, and the release of greenhouse gases that results from dumping waste on landfill sites. But recycling can achieve even more things.\n",
    "Recycling items rather than using raw materials to make new things preserve the planet’s natural resources which, in the face of population growth and growing demand, won’t last forever. Recycling materials uses less energy than extracting, processing, and transporting raw materials to make new products. Think about how raw materials are usually extracted, and what harm these activities might do to the earth. Mining, quarrying, logging, and fracking all cause harm to the planet by causing air and water pollution. These activities can also destroy precious animal habitats. Even more, recycling reduces the amount of waste we send to landfills. When waste sits rotting away in landfills, it leeches toxins into the groundwater and soil, and gives off greenhouse gases like methane as it decomposes, which contributes to global warming. Not only that, if recyclable items are sent to landfills, the precious raw materials, and energy that went into making them are lost. \n",
    "These are only some of the reasons that we find interesting in recycling.\n",
    "\n"
   ]
  },
  {
   "cell_type": "markdown",
   "id": "401ab5a0",
   "metadata": {
    "cell_id": "00004-91ac6de3-196f-447a-9035-d2057deab6e0",
    "deepnote_cell_type": "markdown",
    "tags": []
   },
   "source": [
    "The following video summarizes the main idea behind our project:"
   ]
  },
  {
   "cell_type": "code",
   "execution_count": null,
   "id": "0f9166de",
   "metadata": {
    "cell_id": "00005-628c5895-ef1d-45b2-8032-f6d109443e65",
    "deepnote_cell_type": "code",
    "deepnote_to_be_reexecuted": false,
    "execution_millis": 619,
    "execution_start": 1652108794238,
    "scrolled": true,
    "source_hash": "40a248f7",
    "tags": []
   },
   "outputs": [],
   "source": [
    "from IPython.lib.display import YouTubeVideo\n",
    "YouTubeVideo('ul26sZWu4Po')"
   ]
  },
  {
   "cell_type": "markdown",
   "id": "328cee93",
   "metadata": {
    "cell_id": "00006-a80a3f94-3a2f-4691-85a8-ef0ce0f5603c",
    "deepnote_cell_type": "markdown",
    "tags": []
   },
   "source": [
    "##### What is the idea?\n",
    "\n",
    "This project aims to determine how much waste New York City (NYC) residents recycle and whether recycling varies among different districts in NYC. If a difference does exist, we hope to uncover possible explanations for it. Moreover, different socialeconomic factors are also going to be investigated to se if there is any kind of correlation between recycling and these factors.\n",
    "\n",
    "##### What are your datasets?\n",
    "\n",
    "For our analysis we choose some different types of dataset to have a more clear view of our problem and to investigate it through different aspects. We will refer to its dataset and the variables later in this notebook.\n",
    "\n",
    "[Recycling data](https://data.cityofnewyork.us/Environment/Recycling-Diversion-and-Capture-Rates/gaq9-z3hz): Monthly data for 2018 and 2019 by district; 145 kB, 1000 rows, 9 variables.<br>\n",
    "[District data (district locations)](https://data.cityofnewyork.us/City-Government/DSNY-Districts/i6mn-amj2): Geo-data of districts; 5 mB, 59 rows, 7 variables.<br>\n",
    "[Public recycling bins data](https://data.cityofnewyork.us/Environment/Public-Recycling-Bins/sxx4-xhzg):  Geo-data of recycling bins in New York; 47 kB, 545 rows, 6 variables.<br>\n",
    "[Demographic data](https://data.cityofnewyork.us/City-Government/Community-District-Breakdowns/w3c6-35wg): Average data across 2015 - 2019 by district; 508 kB, 59 rows, 485 variables<br>\n",
    "[Social data](https://www1.nyc.gov/site/planning/planning-level/nyc-population/american-community-survey.page.page): Average data across 2015 - 2019 by district; 1 mB, 59 rows, 2191 variables.<br>\n",
    "[Economic data](https://www1.nyc.gov/site/planning/planning-level/nyc-population/american-community-survey.page.page): Average data across 2015 - 2019 by district; 325 kB, 59 rows, 660 variables.<br>\n",
    "[Housing data](https://data.cityofnewyork.us/City-Government/Demographic-Social-Economic-and-Housing-Profiles-b/kvuc-fg9b): Average data across 2015 - 2019 by district; 281 kB, 59 rows, 520 variables.<br>\n",
    "\n",
    "##### Why is it interesting?\n",
    "\n",
    "Considering that recycling levels differ among different districts in New York City, it would be very interesting to learn the reasons/explanations behind these differences. Understanding why recycling is successful in some areas and unsuccessful in others may inspire new initiatives to promote recycling in New York City. In addition to being great for the environment, it would also benefit NYC's residents (recycling reduces pollution, conserves energy, reduces the need for new raw materials, and keeps trash out of landfills). If our findings are meaningful then propably the same paterns would be applied to other cities in the US and/or around the world also. This means that at the end we can generalize our findings. \n",
    "\n",
    "This project would mostly affect UN SDGs 11 and 12 in a positive way.\n",
    "\n",
    "##### What was your goal for the end user's experience?\n",
    "\n",
    "Our main goal is to communicate ouf findings through a public access web-page. With interactive plots we want the users to choose by themselves different socioeconomic factors and see on maps how they affect the recycling behavior of each neighborhood. Plots of data will also be provided to make the user familiar with them as well as other plots that we might find interesting to share when we proceed with our analysis. Last our conclusions will also be presented to complete our story.\n"
   ]
  },
  {
   "cell_type": "markdown",
   "id": "7aa932ba",
   "metadata": {
    "cell_id": "00007-49098cfc-32ff-451d-b97c-c36d7e7932d9",
    "deepnote_cell_type": "markdown"
   },
   "source": [
    "### Basic stats. Let's understand the dataset better"
   ]
  },
  {
   "cell_type": "markdown",
   "id": "1e46ed15",
   "metadata": {},
   "source": [
    "#### Write about your choices in data cleaning and preprocessing"
   ]
  },
  {
   "cell_type": "markdown",
   "id": "62ea90a1",
   "metadata": {},
   "source": [
    "Before we start analyzing our data we had in some cases to perform some data preprocessing. The first issue that we had to solve was that some of the datasets had the districts written in a different format from the others. This would be a problem for our analysis since later we wanted to compine and compare our datasets. We made a function in order to change the \"wrong\" names and have the same ones in all datasets. The second problem we faced with some sets was that they contained too many variables in most of the cases irrelevant with our problem. Choosing the variables we need was part of the data preparation. Finaly, we had to deal with some None values that we either dropped in some cases or we filled the with the mean value of the specific row.  "
   ]
  },
  {
   "cell_type": "code",
   "execution_count": null,
   "id": "e2122c59",
   "metadata": {},
   "outputs": [],
   "source": [
    "def clean_district(district):\n",
    "    if 'BKN' in district:\n",
    "        district = district.replace('BKN', 'BK')\n",
    "    elif 'BKS' in district:\n",
    "        district = district.replace('BKS', 'BK')\n",
    "    elif 'QE' in district:\n",
    "        district = district.replace('QE', 'QN')\n",
    "    elif 'QW' in district:\n",
    "        district = district.replace('QW', 'QN')\n",
    "    \n",
    "    return district"
   ]
  },
  {
   "cell_type": "code",
   "execution_count": null,
   "id": "ba21f2b8",
   "metadata": {},
   "outputs": [],
   "source": [
    "def replace_districts(x):\n",
    "  dictionary = {'Bronx': \"BX\",\n",
    "           'Brooklyn': \"BK\",\n",
    "           'Manhattan': \"MN\",\n",
    "           'Queens': \"QN\",\n",
    "           'Richmond': \"SI\",\n",
    "           'Staten': \"SI\",\n",
    "           }\n",
    "  for key in dictionary.keys():\n",
    "    x=x.replace(key, dictionary[key])\n",
    "  return x\n"
   ]
  },
  {
   "cell_type": "markdown",
   "id": "abfb850a",
   "metadata": {},
   "source": [
    "A function for load all of our datasets and merge them"
   ]
  },
  {
   "cell_type": "code",
   "execution_count": null,
   "id": "b2c9c3e4",
   "metadata": {},
   "outputs": [],
   "source": [
    "def load_data():\n",
    "    #df=pd.read_csv('recycling.csv')\n",
    "    df_recycling = pd.read_csv('https://data.cityofnewyork.us/resource/gaq9-z3hz.csv')\n",
    "    df_recycling['district'] = df_recycling['district'].apply(clean_district)\n",
    "    df_recycling['value'] = df_recycling['capture_rate_total_total_recycling_leaves_recycling_max_paper_max_mgp_x100']\n",
    "\n",
    "    df_demographics = pd.read_csv('https://data.cityofnewyork.us/resource/w3c6-35wg.csv')\n",
    "    df_demographics['district']=df_demographics.jurisdiction_name.apply(lambda x: replace_districts(x.split()[0])+x[-2:])\n",
    "    demographics_df = df_demographics[['district','percent_female','percent_male','percent_permanent_resident_alien','percent_us_citizen','percent_receives_public_assistance']]\n",
    "\n",
    "    df_populations = pd.read_csv('https://data.cityofnewyork.us/resource/xi7c-iiu2.csv')\n",
    "    df_populations['names'] = df_populations['borough'] +' '+ str(0) + df_populations['cd_number'].astype(str)\n",
    "    df_populations['district']=df_populations.names.apply(lambda x: replace_districts(x.split()[0])+x[-2:])\n",
    "    populations_df = df_populations[['district','_1970_population','_1980_population','_1990_population','_2000_population','_2010_population']]\n",
    "\n",
    "    df_social = pd.read_excel('https://www1.nyc.gov/assets/planning/download/office/planning-level/nyc-population/acs/soc_2019_acs5yr_cdta.xlsx')\n",
    "    df_social['No_diploma_percentage'] = 100*df_social['EA_9t12NDE'] / df_social['EA_P25plE']\n",
    "    social_df = df_social[['GeoID','HHCompP','NtvNYSP','NtvNotNYSP','EA_BchDHP','No_diploma_percentage','EA_LTHSGrP']]\n",
    "    social_df.columns=['GeoID','with_computer','born_nyc','not_born_nyc','bachelors_deg','No_diploma_percentage','less_than_high_school']\n",
    "\n",
    "    df_econ = pd.read_excel('https://www1.nyc.gov/assets/planning/download/office/planning-level/nyc-population/acs/econ_2019_acs5yr_cdta.xlsx')\n",
    "    df_econ['less_than_10k'] = 100*df_econ['HHIU10E'] / df_econ['HH2E']\n",
    "    df_econ['More_than_200k'] = 100*df_econ['HHI200plE'] / df_econ['HH2E']\n",
    "    econ_df = df_econ[['GeoID','CvEm16pl1P','CvLFUEm1P','FamIU10P','MdHHIncC','less_than_10k','More_than_200k']]\n",
    "    econ_df.columns=['GeoID','employed','unemployed','number_rooms_median','income_median','less_than_10k','More_than_200k']\n",
    "\n",
    "    df_housing = pd.read_excel('https://www1.nyc.gov/assets/planning/download/office/planning-level/nyc-population/acs/hous_2019_acs5yr_cdta.xlsx')\n",
    "    df_housing['less_than_200k'] = 100*(df_housing['VlU50E'] + df_housing['Vl50t99E'] + df_housing['Vl100t149E'] +df_housing['Vl150t199E'] )/ df_housing['OOcHU2E']\n",
    "    df_housing['More_than_1m'] = 100*df_housing['Vl1milplE'] / df_housing['OOcHU2E']\n",
    "\n",
    "    housing_df=df_housing[['GeoID','MdVlC','MdGRC','MdRmsC','less_than_200k','More_than_1m']]\n",
    "    housing_df.columns=['GeoID','value_median','gross_rent_median','number_rooms_median','less_than_200k','More_than_1m']\n",
    "\n",
    "    df_demo = pd.read_excel('https://www1.nyc.gov/assets/planning/download/office/planning-level/nyc-population/acs/demo_2019_acs5yr_cdta.xlsx')\n",
    "    demo_df =df_demo[['GeoID','MdAgeC','PopU5P','Pop5t9P','Pop10t14P','Pop15t19P','Pop20t24P','Pop25t29P','Pop30t34P','Pop35t39P','Pop40t44P','Pop45t49P','Pop50t54P','Pop55t59P','Pop60t64P','Pop65t69P','Pop70t74P','Pop75t79P','Pop80t84P','Pop85plP','PopU181P','Pop65pl1P','Hsp1P','BlNHP','AsnNHP']]\n",
    "\n",
    "\n",
    "\n",
    "    demo_df[\"Age_0_19\"] = demo_df['PopU5P'] + demo_df['Pop5t9P'] + demo_df['Pop10t14P'] + demo_df['Pop15t19P']\n",
    "    demo_df.drop(['PopU5P','Pop5t9P','Pop10t14P','Pop15t19P'],axis=1,inplace=True)\n",
    "\n",
    "    demo_df[\"Age_20_39\"] = demo_df['Pop20t24P'] + demo_df['Pop25t29P'] + demo_df['Pop30t34P'] + demo_df['Pop35t39P']\n",
    "    demo_df.drop(['Pop20t24P','Pop25t29P','Pop30t34P','Pop35t39P'],axis=1,inplace=True)\n",
    "\n",
    "    demo_df[\"Age_40_64\"] = demo_df['Pop40t44P'] + demo_df['Pop45t49P'] + demo_df['Pop50t54P'] + demo_df['Pop55t59P'] + demo_df[\"Pop60t64P\"]\n",
    "    demo_df.drop(['Pop40t44P','Pop45t49P','Pop50t54P','Pop55t59P',\"Pop60t64P\"],axis=1,inplace=True)\n",
    "\n",
    "    demo_df[\"Age_65_74\"] = demo_df['Pop65t69P'] + demo_df['Pop70t74P'] \n",
    "    demo_df.drop(['Pop65t69P','Pop70t74P'],axis=1,inplace=True)\n",
    "\n",
    "    demo_df[\"Age_75_over\"] = demo_df['Pop75t79P'] + demo_df['Pop80t84P'] + demo_df['Pop85plP'] \n",
    "    demo_df.drop(['Pop75t79P','Pop80t84P','Pop85plP'],axis=1,inplace=True)\n",
    "\n",
    "    #merged_df1 = df.merge(df_recycling, left_on='district', right_on='district',how='inner')\n",
    "    merged_df1 = df_recycling\n",
    "    merged_df2 = merged_df1.merge(demographics_df, left_on='district', right_on='district',how='inner')\n",
    "    merged_df3 = merged_df2.merge(populations_df, left_on='district', right_on='district',how='inner')\n",
    "    merged_df4 = merged_df3.merge(demo_df, left_on='district', right_on='GeoID',how='inner')\n",
    "    merged_df5 = merged_df4.merge(social_df, left_on='GeoID', right_on='GeoID',how='inner')\n",
    "    merged_df6 = merged_df5.merge(econ_df, left_on='GeoID', right_on='GeoID',how='inner')\n",
    "    merged_df = merged_df6.merge(housing_df, left_on='GeoID', right_on='GeoID',how='inner')\n",
    "    merged_df.drop('number_rooms_median_y',axis=1,inplace=True)\n",
    "    merged_df.drop_duplicates('district', inplace = True) \n",
    "    merged_df = merged_df.reset_index(drop=True)\n",
    "\n",
    "    df = merged_df\n",
    "    #for later\n",
    "    df_bokeh = merged_df.copy()\n",
    "\n",
    "    df.dropna(inplace=True)\n",
    "    df.drop(['district','GeoID','month_name','fiscal_month_number','fiscal_year','diversion_rate_total_total_recycling_total_waste_','capture_rate_paper_total_paper_max_paper_','capture_rate_mgp_total_mgp_max_mgp_','capture_rate_total_total_recycling_leaves_recycling_max_paper_max_mgp_x100'], axis=1, inplace=True)\n",
    "\n",
    "    return df,df_bokeh\n"
   ]
  },
  {
   "cell_type": "markdown",
   "id": "b02031d3",
   "metadata": {},
   "source": [
    "#### Write a short section that discusses the dataset stats, containing key points/plots from your exploratory data analysis.\n",
    "\n",
    "Since we have more than one dataset we are going to load and analyze one dataset at a time. Intuitive plots will also be presented to make everyone familiar with our datasets.\n",
    "\n"
   ]
  },
  {
   "cell_type": "markdown",
   "id": "c3fe30de",
   "metadata": {
    "cell_id": "00008-620306be-98de-496e-88f1-f16112616213",
    "deepnote_cell_type": "markdown",
    "tags": []
   },
   "source": [
    "#### Recycling rates by district\n",
    "\n",
    "We load the recycling [rates by community district dataset](https://data.cityofnewyork.us/Environment/Recycling-Diversion-and-Capture-Rates/gaq9-z3hz) and then we inspect the variables, to have an overview of the information contained in the dataset. \n",
    "\n",
    "For each Community District, its Recycling Diversion rate (percentage of total municipal solid waste collected by the Department of Sanitation that is disposed of by recycling) and Capture Rate (percentage of total Paper or Metal/Glass/Plastic in the waste stream that is disposed of by recycling).\n",
    "\n",
    "Capture rate is the amount of materials set out for residential recycling collection as a percentage of designated recyclable materials in both recycling and refuse streams. This ratio measures how much of the targeted materials are actually being recycled, which is a measure of how successfully such materials are recycled.\n",
    "\n",
    "Lets see all the variable this dataset is providing us:\n",
    "\n",
    "- **Zone** : Different zones (text)\n",
    "\n",
    "- **District** : One of NYC's 59 community districts which correspond to Sanitation districts. (text)\n",
    "\n",
    "- **Fiscal Month Number** : The number of the fiscal month. The NYC fiscal year starts in July so July is fiscal month 1. (int)\n",
    "\n",
    "- **Fiscal Year** : Year that corresponds to NYC fiscal year. The NYC fiscal year starts in July and ends in June. (int)\n",
    "\n",
    "- **Month Name** : Name of the month (text)\n",
    "\n",
    "- **Diversion Rate-Total** : Total Recycling / Total Waste\t\n",
    "\n",
    "- **Capture Rate-Paper** : Total Recyclable Paper / Max Recyclable Paper in Waste Stream\n",
    "\n",
    "- **Capture Rate-MGP** : Total Recyclable Metal, Glass, Plastic & Beverage Cartons / Max Recyclable Metal, Glass, Plastic & Beverage Cartons in Waste Stream\n",
    "\n",
    "- **Capture Rate-Total** :  ((Total Recycling - Leaves (Recycling)) / (Max Paper + Max MGP))x100\n",
    "\n"
   ]
  },
  {
   "cell_type": "code",
   "execution_count": null,
   "id": "ac77bf55",
   "metadata": {
    "cell_id": "00009-17fbb111-f34f-44bc-80aa-0220f7b6d353",
    "deepnote_cell_type": "code",
    "deepnote_to_be_reexecuted": false,
    "execution_millis": 266,
    "execution_start": 1652108794239,
    "source_hash": "ef93a02b"
   },
   "outputs": [],
   "source": [
    "df_recycling = pd.read_csv('https://data.cityofnewyork.us/resource/gaq9-z3hz.csv')"
   ]
  },
  {
   "cell_type": "code",
   "execution_count": null,
   "id": "30045016",
   "metadata": {
    "cell_id": "00012-1f680b2d-f597-485f-91e3-eb6773fde1b9",
    "deepnote_cell_type": "code",
    "deepnote_to_be_reexecuted": false,
    "execution_millis": 1,
    "execution_start": 1652108794508,
    "source_hash": "dfb8a5f2"
   },
   "outputs": [],
   "source": [
    "df_recycling['district'] = df_recycling['district'].apply(clean_district)"
   ]
  },
  {
   "cell_type": "code",
   "execution_count": null,
   "id": "e6af89a4",
   "metadata": {
    "cell_id": "00013-75f79053-4ee9-43bb-9b85-d187e331a792",
    "deepnote_cell_type": "code",
    "deepnote_to_be_reexecuted": false,
    "execution_millis": 357,
    "execution_start": 1652108794510,
    "source_hash": "dd228c7b"
   },
   "outputs": [],
   "source": [
    "df_recycling.head(5)"
   ]
  },
  {
   "cell_type": "code",
   "execution_count": null,
   "id": "cf32b6f0",
   "metadata": {
    "cell_id": "00014-1c87e2ad-0770-42a4-9709-a294c2bdb0b9",
    "deepnote_cell_type": "code",
    "deepnote_to_be_reexecuted": false,
    "execution_millis": 356,
    "execution_start": 1652108794511,
    "source_hash": "5833c0ee"
   },
   "outputs": [],
   "source": [
    "round(df_recycling.describe(),2)"
   ]
  },
  {
   "cell_type": "markdown",
   "id": "2cb9c3db",
   "metadata": {},
   "source": [
    "Above us is a table with some basic sttistics for one of our main dataset. We can see that the max value of recycling percentage is 75% when the min value in the same variable is 21%. We can also observe that the percentages in the paper recycling are smaler that the one in the Metal, Glass, Plastic & Beverage Cartons. The next plot illustrates this comparison between paper and the other per district. "
   ]
  },
  {
   "cell_type": "code",
   "execution_count": null,
   "id": "8d7c8c2f",
   "metadata": {
    "cell_id": "00015-75492ba8-41f6-4461-bd60-4b782e81929f",
    "deepnote_cell_type": "code",
    "deepnote_to_be_reexecuted": false,
    "execution_millis": 1581,
    "execution_start": 1652108794557,
    "scrolled": false,
    "source_hash": "61e5d3fa"
   },
   "outputs": [],
   "source": [
    "#fig, ax = plt.subplots(figsize=(16,6))\n",
    "fig = plt.figure(figsize=(22,8))\n",
    "ax = fig.add_subplot(111) # Create matplotlib axes\n",
    "ax2 = ax.twinx() # Create another axes that shares the same x-axis as ax.\n",
    "\n",
    "\n",
    "df_recycling \\\n",
    "    .groupby('district') \\\n",
    "    .mean() \\\n",
    "    .plot(kind='bar', y='capture_rate_paper_total_paper_max_paper_', ax=ax,\n",
    "         title='The total recycle rates for Metal, Glass, Plastic & Beverage Cartons compared with the ones for Paper per district',position=0,width=0.4,color='red')\n",
    "\n",
    "df_recycling \\\n",
    "    .groupby('district') \\\n",
    "    .mean() \\\n",
    "    .plot(kind='bar', y='capture_rate_mgp_total_mgp_max_mgp_', ax=ax2,\n",
    "         position=1,width=0.4,color='Blue')\n",
    "\n",
    "plt.show()"
   ]
  },
  {
   "cell_type": "markdown",
   "id": "d4ee70cb",
   "metadata": {},
   "source": [
    "When we see the plot above, its more clear that in general the Metal, Glass, Plastic & Beverage Cartons group has higher rates but in many districts the paper overcomes it and be in top. Examples of that are the districs BK01 and MN09. In the plot below we show the rates for the compination of the two previous categories.  "
   ]
  },
  {
   "cell_type": "code",
   "execution_count": null,
   "id": "52538300",
   "metadata": {
    "cell_id": "00016-785cdec4-1a64-4574-9647-ee73157b8197",
    "deepnote_cell_type": "code",
    "deepnote_to_be_reexecuted": false,
    "execution_millis": 2845,
    "execution_start": 1652108796098,
    "source_hash": "209cb641"
   },
   "outputs": [],
   "source": [
    "fig, ax = plt.subplots(figsize=(16,6))\n",
    "df_recycling \\\n",
    "    .groupby('district') \\\n",
    "    .mean() \\\n",
    "    .plot(kind='bar', y='capture_rate_total_total_recycling_leaves_recycling_max_paper_max_mgp_x100', ax=ax,\n",
    "         title='The total recycle rates for all the materials (100%)')\n",
    "plt.show()"
   ]
  },
  {
   "cell_type": "markdown",
   "id": "28a85312",
   "metadata": {},
   "source": [
    "From the total rates we can see that the district with the biggest is QN11 with BK10 folowing. The district with the smallest rate is BX01"
   ]
  },
  {
   "cell_type": "markdown",
   "id": "b133be6b",
   "metadata": {
    "cell_id": "00018-afe3cd60-1e47-4412-a9e4-876aa1010717",
    "deepnote_cell_type": "markdown"
   },
   "source": [
    "The Total recycle rates per zone in the city of new york. Here we plot again the total rates this time per zone since the districts codes are not well knowed in the public. The district with the biggest rate belongs to Quens West where the BX01 to Bronx"
   ]
  },
  {
   "cell_type": "code",
   "execution_count": null,
   "id": "3a215237",
   "metadata": {
    "cell_id": "00019-5335c08d-58f4-4f35-86f0-f7aeb2f945c6",
    "deepnote_cell_type": "code",
    "deepnote_to_be_reexecuted": false,
    "execution_millis": 2713,
    "execution_start": 1652108798240,
    "scrolled": false,
    "source_hash": "83e667bb"
   },
   "outputs": [],
   "source": [
    "import random\n",
    "\n",
    "month = df_recycling.fiscal_month_number.value_counts()\n",
    "\n",
    "districts = df_recycling.district.unique().tolist()\n",
    "zones = df_recycling._zone.unique().tolist()\n",
    "#+del districts[-1]\n",
    "districts.sort()\n",
    "\n",
    "count=1\n",
    "for zone in zones:\n",
    "    fig, ax = plt.subplots(figsize=(16,6))\n",
    "    \n",
    "    r = random.random()\n",
    "    b = random.random()\n",
    "    g = random.random()\n",
    "    color = (r, g, b)\n",
    "    \n",
    "    df = (df_recycling[(df_recycling['_zone'] == zone)]).reset_index()\n",
    "    df\\\n",
    "    .groupby('district') \\\n",
    "    .mean() \\\n",
    "    .plot(kind='bar', y='capture_rate_total_total_recycling_leaves_recycling_max_paper_max_mgp_x100', ax=ax,\n",
    "         title='The total recycle rates for all the materials (100%)',color = color)\n",
    "    #ax = sns.barplot(x='fiscal_month_number',y='capture_rate_total_total_recycling_leaves_recycling_max_paper_max_mgp_x100',data=data)\n",
    "    ax.set_ylabel('Total Recycle rates')\n",
    "    plt.xticks(rotation=90)\n",
    "    plt.title(zone)\n",
    "    plt.tight_layout()\n",
    "    plt.show()\n",
    "\n"
   ]
  },
  {
   "cell_type": "markdown",
   "id": "e12b8e69",
   "metadata": {
    "cell_id": "00024-cfb51f43-5a80-4a46-b46c-762b4904295d",
    "deepnote_cell_type": "markdown"
   },
   "source": [
    "#### Community districts in new york"
   ]
  },
  {
   "cell_type": "markdown",
   "id": "e2966eb9",
   "metadata": {
    "cell_id": "00025-56c0e15d-aaff-4d29-8fff-9e806151b317",
    "deepnote_cell_type": "markdown"
   },
   "source": [
    "This dataset [(link)](https://data.cityofnewyork.us/City-Government/DSNY-Districts/i6mn-amj2) conteins the lat,log of each New York destrict as long with some usefull information about them. In order to have a better overview of this dataset lets analyze its variables in detail : \n",
    "\n",
    "- **DISTRICT** : District abbreviation as defined by DSNY\n",
    "\n",
    "- **DISTRICTCODE** : District Code as defined by DCP\n",
    "\n",
    "- **FID** : In ArcGIS, the FID is a system-managed value that uniquely identifies a record or feature. \n",
    "\n",
    "- **GlobalID** : The GlobalID is automatically assigned by ArcGIS software when a row is created.\n",
    "\n",
    "- **SHAPE_Area** : square footage of the polygon\n",
    "\n",
    "- **SHAPE_Length** : length in feet of the geographic feature\n",
    "\n",
    "- **multipolygon** :\tshape of the geographic feature\n",
    "\n",
    "\n"
   ]
  },
  {
   "cell_type": "markdown",
   "id": "e8a5902b",
   "metadata": {
    "cell_id": "00026-0d86c96e-ad95-4fe9-a925-edf1b1c7ddb7",
    "deepnote_cell_type": "markdown"
   },
   "source": [
    "We will first have to clean our dataset in the format the other districts we have are."
   ]
  },
  {
   "cell_type": "code",
   "execution_count": null,
   "id": "8e436883",
   "metadata": {
    "cell_id": "00027-692f90f8-63cf-4486-8ad1-4c0205560c34",
    "deepnote_cell_type": "code",
    "deepnote_to_be_reexecuted": false,
    "execution_millis": 411,
    "execution_start": 1652108800743,
    "source_hash": "24df9ab3"
   },
   "outputs": [],
   "source": [
    "df_districts = pd.read_csv('https://data.cityofnewyork.us/api/views/i6mn-amj2/rows.csv?accessType=DOWNLOAD&bom=true&format=true')"
   ]
  },
  {
   "cell_type": "code",
   "execution_count": null,
   "id": "4978430c",
   "metadata": {
    "cell_id": "00028-6b11ddc8-1fff-4874-8cbc-f4ee02b10f5f",
    "deepnote_cell_type": "code",
    "deepnote_to_be_reexecuted": false,
    "execution_millis": 1,
    "execution_start": 1652108801155,
    "source_hash": "c46d52af"
   },
   "outputs": [],
   "source": [
    "df_districts['DISTRICT'] = df_districts['DISTRICT'].apply(clean_district)"
   ]
  },
  {
   "cell_type": "markdown",
   "id": "514ef3c9",
   "metadata": {
    "cell_id": "00029-2d383a04-f3f2-4120-8137-be7ba8580348",
    "deepnote_cell_type": "markdown"
   },
   "source": [
    "In the figure above we can see a plot illustrating the square foot of each district. This will help us understand the how big some districts are compared to the others."
   ]
  },
  {
   "cell_type": "code",
   "execution_count": null,
   "id": "a1087233",
   "metadata": {
    "cell_id": "00030-0af623c5-2922-45be-9548-4b4eda7206af",
    "deepnote_cell_type": "code",
    "deepnote_to_be_reexecuted": false,
    "execution_millis": 1974,
    "execution_start": 1652108801156,
    "source_hash": "e24c5d87"
   },
   "outputs": [],
   "source": [
    "plt.figure(figsize=(15,5))\n",
    "plt.title(\"Square footage of each area\")\n",
    "ax = sns.barplot(y='SHAPE_Area', x='DISTRICT',data=df_districts)\n",
    "plt.xticks(rotation=70)\n",
    "plt.tight_layout()"
   ]
  },
  {
   "cell_type": "markdown",
   "id": "33eba1ec",
   "metadata": {
    "cell_id": "00031-d7aba26b-7b2a-4a1d-919b-a15af6564036",
    "deepnote_cell_type": "markdown"
   },
   "source": [
    "Next we are going to present each one of the New York districts on map for better understanding"
   ]
  },
  {
   "cell_type": "code",
   "execution_count": null,
   "id": "0f6027d8",
   "metadata": {
    "cell_id": "00032-abf3a06f-1db8-4a99-9f80-62254fe4ffe9",
    "deepnote_cell_type": "code",
    "deepnote_to_be_reexecuted": false,
    "execution_millis": 1844,
    "execution_start": 1652108803120,
    "source_hash": "14b38ba4"
   },
   "outputs": [],
   "source": [
    "with urlopen('https://data.cityofnewyork.us/resource/i6mn-amj2.geojson') as response:\n",
    "    geo_json = json.load(response)"
   ]
  },
  {
   "cell_type": "code",
   "execution_count": null,
   "id": "30d3ec3e",
   "metadata": {
    "cell_id": "00033-8b5caf68-8719-4ace-9542-cf9d9d22c34f",
    "deepnote_cell_type": "code",
    "deepnote_to_be_reexecuted": false,
    "execution_millis": 184138048,
    "execution_start": 1652108804965,
    "source_hash": "24c83489"
   },
   "outputs": [],
   "source": [
    "for feature in geo_json['features']:\n",
    "    feature['properties']['district'] = clean_district(feature['properties']['district'])"
   ]
  },
  {
   "cell_type": "code",
   "execution_count": null,
   "id": "c1ab5129",
   "metadata": {
    "cell_id": "00034-acf800b3-78ca-45fb-b177-3cfb4f022993",
    "deepnote_cell_type": "code",
    "deepnote_to_be_reexecuted": false,
    "execution_millis": 1,
    "execution_start": 1652108804966,
    "source_hash": "8ea5336d"
   },
   "outputs": [],
   "source": [
    "geo_data = df_recycling \\\n",
    "    .groupby('district') \\\n",
    "    .mean() \\\n",
    "    .reset_index(level=0) \\\n",
    "    [['district', 'capture_rate_total_total_recycling_leaves_recycling_max_paper_max_mgp_x100']] \\\n",
    "    .rename(columns={'capture_rate_total_total_recycling_leaves_recycling_max_paper_max_mgp_x100': 'value'})"
   ]
  },
  {
   "cell_type": "code",
   "execution_count": null,
   "id": "5ab2d9cf",
   "metadata": {
    "cell_id": "00036-abd6b8a6-279a-49e5-a84f-ade6855c5283",
    "deepnote_cell_type": "code",
    "deepnote_to_be_reexecuted": false,
    "execution_millis": 4798,
    "execution_start": 1652108804968,
    "source_hash": "22fa02bb"
   },
   "outputs": [],
   "source": [
    "recycling_fig = px.choropleth_mapbox(\n",
    "    geo_data,\n",
    "    geojson=geo_json,\n",
    "    locations='district',\n",
    "    color='value',\n",
    "    featureidkey='properties.district',\n",
    "    color_continuous_scale=\"Viridis\",\n",
    "    mapbox_style=\"carto-positron\",\n",
    "    title = 'The 59 different districts of New York and their recycling rates',\n",
    "    zoom=9.25, center = {\"lat\": 40.72, \"lon\": -73.935242},\n",
    "    opacity=0.5,\n",
    "    labels={'value':'Recycling %'}\n",
    ")\n",
    "recycling_fig.update_layout(margin={\"r\":0,\"t\":0,\"l\":0,\"b\":0})\n",
    "recycling_fig.show()"
   ]
  },
  {
   "cell_type": "markdown",
   "id": "98cd9583",
   "metadata": {},
   "source": [
    "These are the districts of New York colored by the percentage of recycling. The plot is illustrated below "
   ]
  },
  {
   "cell_type": "markdown",
   "id": "edf64ced",
   "metadata": {
    "cell_id": "00037-4d041e0b-4ab6-41fb-8664-12549c4cae13",
    "deepnote_cell_type": "markdown"
   },
   "source": [
    "#### Locations of recycling bins in New York City"
   ]
  },
  {
   "cell_type": "markdown",
   "id": "c13181c6",
   "metadata": {
    "cell_id": "00038-4fedd2aa-c195-459c-aace-ab2a66d6929c",
    "deepnote_cell_type": "markdown"
   },
   "source": [
    "This dataset [(link)](https://data.cityofnewyork.us/Environment/Public-Recycling-Bins/sxx4-xhzg) contains the Locations of public recycling bins throughout NYC.\n",
    "\n",
    "- **Borough** : The Borough name\n",
    "\n",
    "- **Site type**\t: Where the bin is located in the area\n",
    "\n",
    "- **Park/Site Name** : The name of the street\n",
    "\n",
    "- **Address** : The full address\n",
    "\n",
    "- **Latitude**\t\n",
    "\n",
    "- **Longitude**\n",
    "\n"
   ]
  },
  {
   "cell_type": "code",
   "execution_count": null,
   "id": "37baba70",
   "metadata": {
    "cell_id": "00039-9bdb3b8e-b74b-441b-bd38-f80e9ccdbfa4",
    "deepnote_cell_type": "code",
    "deepnote_to_be_reexecuted": false,
    "execution_millis": 0,
    "execution_start": 1652108807608,
    "source_hash": "5de3cb2d"
   },
   "outputs": [],
   "source": [
    "df_bins = pd.read_csv('https://data.cityofnewyork.us/resource/sxx4-xhzg.csv')"
   ]
  },
  {
   "cell_type": "code",
   "execution_count": null,
   "id": "f511e738",
   "metadata": {
    "cell_id": "00041-75134975-ed5e-4346-b2a8-7189724a5472",
    "deepnote_cell_type": "code",
    "deepnote_to_be_reexecuted": false,
    "execution_millis": 3193,
    "execution_start": 1652108807611,
    "source_hash": "543c2a8f"
   },
   "outputs": [],
   "source": [
    "recycling_fig.add_scattermapbox(\n",
    "    lat=df_bins['latitude'],\n",
    "    lon=df_bins['longitude'],\n",
    "    mode = 'markers'\n",
    ")\n",
    "recycling_fig.show()"
   ]
  },
  {
   "cell_type": "markdown",
   "id": "166b7117",
   "metadata": {},
   "source": [
    "Using the location of the bins can genarates some new features for our analysis and Ml later"
   ]
  },
  {
   "cell_type": "markdown",
   "id": "593d87f5",
   "metadata": {
    "cell_id": "00046-5447ca3c-630d-47fe-ac19-f9d6b875bfd8",
    "deepnote_cell_type": "markdown"
   },
   "source": [
    "#### Community districts populations"
   ]
  },
  {
   "cell_type": "markdown",
   "id": "e6a41844",
   "metadata": {
    "cell_id": "00047-fa104605-e08c-4b81-9c9d-42d1b596db82",
    "deepnote_cell_type": "markdown"
   },
   "source": [
    "This dataset is used for our regrassion later. Its a simple dataset containing the population information of the destricts from 1970-2010"
   ]
  },
  {
   "cell_type": "markdown",
   "id": "9f538ec2",
   "metadata": {
    "cell_id": "00048-b1b042cf-e1c7-48e4-947e-a109ffdb0673",
    "deepnote_cell_type": "markdown"
   },
   "source": [
    "https://data.cityofnewyork.us/City-Government/New-York-City-Population-By-Community-Districts/xi7c-iiu2"
   ]
  },
  {
   "cell_type": "code",
   "execution_count": null,
   "id": "01336b75",
   "metadata": {
    "cell_id": "00050-215e4911-ffe5-4ba2-b2bb-d854e639e6ca",
    "deepnote_cell_type": "code",
    "deepnote_to_be_reexecuted": false,
    "execution_millis": 160,
    "execution_start": 1652108808088,
    "source_hash": "88684f94"
   },
   "outputs": [],
   "source": [
    "df_populations = pd.read_csv('https://data.cityofnewyork.us/resource/xi7c-iiu2.csv')"
   ]
  },
  {
   "cell_type": "code",
   "execution_count": null,
   "id": "d2dd7fb2",
   "metadata": {
    "cell_id": "00051-cf6d962c-7377-4cf9-b026-47ed7aa25afc",
    "deepnote_cell_type": "code",
    "deepnote_to_be_reexecuted": false,
    "execution_millis": 1,
    "execution_start": 1652108808249,
    "source_hash": "dfb8a5f2"
   },
   "outputs": [],
   "source": [
    "df_recycling['district'] = df_recycling['district'].apply(clean_district)"
   ]
  },
  {
   "cell_type": "code",
   "execution_count": null,
   "id": "31b67a4b",
   "metadata": {
    "cell_id": "00052-215de603-0adb-470a-8b6a-c2ba88e35f5a",
    "deepnote_cell_type": "code",
    "deepnote_to_be_reexecuted": false,
    "execution_millis": 2558,
    "execution_start": 1652108808250,
    "source_hash": "35f81803"
   },
   "outputs": [],
   "source": [
    "df_populations.head()"
   ]
  },
  {
   "cell_type": "markdown",
   "id": "e2142a3a",
   "metadata": {
    "cell_id": "00058-5bdb0cba-534e-4c76-a1e4-ca81509442d5",
    "deepnote_cell_type": "markdown"
   },
   "source": [
    "#### Demographic, Social, Economic, and Housing Profiles by Community District"
   ]
  },
  {
   "cell_type": "markdown",
   "id": "55e7b471",
   "metadata": {
    "cell_id": "00059-395d37c8-d722-4235-8ad3-b7169a4d5b21",
    "deepnote_cell_type": "markdown"
   },
   "source": [
    "In this section we are going to investigate different Demographic, Social, Economic, and Housing statistics that it could may affect the recycling rates per destrict. This [link](https://www1.nyc.gov/site/planning/planning-level/nyc-population/american-community-survey.page.page) host the collection of all this different datasets we are going to use for the analysis."
   ]
  },
  {
   "cell_type": "markdown",
   "id": "648830aa",
   "metadata": {
    "cell_id": "00060-aad193ac-7e0d-4788-8617-e621890be678",
    "deepnote_cell_type": "markdown"
   },
   "source": [
    "##### Demographic profile"
   ]
  },
  {
   "cell_type": "markdown",
   "id": "8fb19423",
   "metadata": {
    "cell_id": "00061-8a60ecce-b950-4442-bf13-f28b8cfd3036",
    "deepnote_cell_type": "markdown"
   },
   "source": [
    "This Excel file is from a 2015-2019 ACS database [link](www1.nyc.gov/assets/planning/download/office/planning-level/nyc-population/acs/demo_2019_acs5yr_cdta.xlsx) . For each of the 59 destricts it contains 106 different variables so we are not going to explain each one of them but we will still present them as categories. \n",
    "\n",
    "The first category is present data about the Sex of the total population as well as all the different Age groups.\n",
    "The second one consist of info regarding the Race and origin of the population. \n",
    "Last we have two more categories analizyng the exact origin of the Spanish and the Asian population.\n",
    "We are not going to use all of these variables in our analisys since a lot of them doesnt provide us with any valuable informations.\n"
   ]
  },
  {
   "cell_type": "code",
   "execution_count": null,
   "id": "dc9599fa",
   "metadata": {
    "cell_id": "00062-fd09f70b-ee14-4927-86d2-346f72491200",
    "deepnote_cell_type": "code",
    "deepnote_to_be_reexecuted": false,
    "execution_millis": 2424,
    "execution_start": 1652108814614,
    "source_hash": "371636d"
   },
   "outputs": [],
   "source": [
    "df_demo = pd.read_excel(\n",
    "    'https://www1.nyc.gov/assets/planning/download/office/planning-level/nyc-population/acs/demo_2019_acs5yr_cdta.xlsx',\n",
    ")\n",
    "df_demo = df_demo[df_demo['GeoID'].isin(df_recycling['district'])]"
   ]
  },
  {
   "cell_type": "markdown",
   "id": "05970b54",
   "metadata": {
    "cell_id": "00064-cf3a4ea8-c3c1-4597-b709-82dc065e2184",
    "deepnote_cell_type": "markdown"
   },
   "source": [
    "This figure presents the Age distribution of each district coloring with yellow color all the districts with high median age and with dark blue the ones with the lowest median age."
   ]
  },
  {
   "cell_type": "code",
   "execution_count": null,
   "id": "19f511cf",
   "metadata": {
    "cell_id": "00065-8ad2a920-e4ba-46c4-bf1c-8ce529c7ccab",
    "deepnote_cell_type": "code",
    "deepnote_to_be_reexecuted": false,
    "execution_millis": 1089,
    "execution_start": 1652108819645,
    "scrolled": false,
    "source_hash": "22466707"
   },
   "outputs": [],
   "source": [
    "med_age_fig = px.choropleth_mapbox(\n",
    "    df_demo,\n",
    "    geojson=geo_json,\n",
    "    locations='GeoID',\n",
    "    color='MdAgeE',\n",
    "    featureidkey='properties.district',\n",
    "    color_continuous_scale=\"Viridis\",\n",
    "    mapbox_style=\"carto-positron\",\n",
    "    zoom=9.25, center = {\"lat\": 40.72, \"lon\": -73.935242},\n",
    "    opacity=0.5,\n",
    "    labels={'MdAgeE':'Median age'}\n",
    ")\n",
    "med_age_fig.update_layout(margin={\"r\":0,\"t\":0,\"l\":0,\"b\":0})\n",
    "med_age_fig.show()"
   ]
  },
  {
   "cell_type": "markdown",
   "id": "716a07a6",
   "metadata": {
    "cell_id": "00067-52a5810c-15b9-47b5-9f40-76b3e91f57ce",
    "deepnote_cell_type": "markdown"
   },
   "source": [
    "##### Social profile"
   ]
  },
  {
   "cell_type": "markdown",
   "id": "278131bc",
   "metadata": {
    "cell_id": "00068-1df6b84d-f5a6-4240-80a5-2222910ea35d",
    "deepnote_cell_type": "markdown"
   },
   "source": [
    "This Excel file is from a 2015-2019 ACS database [link](https://www1.nyc.gov/assets/planning/download/office/planning-level/nyc-population/acs/soc_2019_acs5yr_cdta.xlsx) . For each of the destricts it contains 442 different variables. The social charecteristic this dataset contains in many cases are irrelevant with the focus of this project. We will focus on the educational information this dataset provides and we will analyze any conection these can have with the recycling rates. "
   ]
  },
  {
   "cell_type": "code",
   "execution_count": null,
   "id": "fe750455",
   "metadata": {
    "cell_id": "00069-3d3bf93d-bfa0-4dd3-9b43-a4e988e4d336",
    "deepnote_cell_type": "code",
    "deepnote_to_be_reexecuted": false,
    "execution_millis": 3849,
    "execution_start": 1652108819862,
    "source_hash": "2dbc9f80"
   },
   "outputs": [],
   "source": [
    "df_social = pd.read_excel(\n",
    "    'https://www1.nyc.gov/assets/planning/download/office/planning-level/nyc-population/acs/soc_2019_acs5yr_cdta.xlsx',\n",
    ")\n",
    "df_social = df_social[df_social['GeoID'].isin(df_recycling['district'])]"
   ]
  },
  {
   "cell_type": "code",
   "execution_count": null,
   "id": "e4ddcb5b",
   "metadata": {
    "cell_id": "00071-eae496c3-0b1c-42b2-9912-75f1141aea26",
    "deepnote_cell_type": "code",
    "deepnote_to_be_reexecuted": false,
    "execution_millis": 1097,
    "execution_start": 1652108826092,
    "scrolled": false,
    "source_hash": "4e715e9f"
   },
   "outputs": [],
   "source": [
    "df_social['EA_BchDHE_percentage'] = 100*df_social['EA_BchDHE'] / df_social['EA_P25plE']\n",
    "bachelor_fig = px.choropleth_mapbox(\n",
    "    df_social,\n",
    "    geojson=geo_json,\n",
    "    locations='GeoID',\n",
    "    color='EA_BchDHE_percentage',\n",
    "    featureidkey='properties.district',\n",
    "    color_continuous_scale=\"Viridis\",\n",
    "    mapbox_style=\"carto-positron\",\n",
    "    zoom=9.25, center = {\"lat\": 40.72, \"lon\": -73.935242},\n",
    "    opacity=0.5,\n",
    "    labels={'EA_BchDHE_percentage':\"Percentage with Bachelor's degree\" },\n",
    "    title = \"4\"\n",
    ")\n",
    "bachelor_fig.update_layout(margin={\"r\":0,\"t\":0,\"l\":0,\"b\":0})\n",
    "bachelor_fig.show()"
   ]
  },
  {
   "cell_type": "markdown",
   "id": "065896c5",
   "metadata": {
    "cell_id": "00072-ce9d2f90-2bd6-4d3e-bd55-76bf632ec3a6",
    "deepnote_cell_type": "markdown"
   },
   "source": [
    "In the figure above we illustrate the percentage of people having a bachelor degreee"
   ]
  },
  {
   "cell_type": "code",
   "execution_count": null,
   "id": "33dca137",
   "metadata": {
    "cell_id": "00073-16f3f05e-91f1-4ea5-b63a-3e72d35cbb0e",
    "deepnote_cell_type": "code",
    "deepnote_to_be_reexecuted": false,
    "execution_millis": 3223,
    "execution_start": 1652108827109,
    "source_hash": "b5545c84"
   },
   "outputs": [],
   "source": [
    "df_social['EA_BchDHE_percentage'] = 100*df_social['EA_9t12NDE'] / df_social['EA_P25plE']\n",
    "bachelor_fig = px.choropleth_mapbox(\n",
    "    df_social,\n",
    "    geojson=geo_json,\n",
    "    locations='GeoID',\n",
    "    color='EA_BchDHE_percentage',\n",
    "    featureidkey='properties.district',\n",
    "    color_continuous_scale=\"Viridis\",\n",
    "    mapbox_style=\"carto-positron\",\n",
    "    zoom=9.25, center = {\"lat\": 40.72, \"lon\": -73.935242},\n",
    "    opacity=0.5,\n",
    "    labels={'EA_BchDHE_percentage':\"Percentage of people finish 9th-12th grade with no diploma\" }\n",
    ")\n",
    "bachelor_fig.update_layout(margin={\"r\":0,\"t\":0,\"l\":0,\"b\":0})\n",
    "bachelor_fig.show()"
   ]
  },
  {
   "cell_type": "markdown",
   "id": "5bf8a763",
   "metadata": {
    "cell_id": "00074-76900122-4ce3-4af6-8ac0-c42fff87d3d9",
    "deepnote_cell_type": "markdown"
   },
   "source": [
    "In the figure above we illustrate the percentage of people that have finish 9th-12th grade but they dont have any diploma"
   ]
  },
  {
   "cell_type": "code",
   "execution_count": null,
   "id": "fd4cfb64",
   "metadata": {
    "cell_id": "00075-2693960d-5ffe-4485-b87e-3211fd3b9de0",
    "deepnote_cell_type": "code",
    "deepnote_to_be_reexecuted": false,
    "execution_millis": 1235,
    "execution_start": 1652108829354,
    "source_hash": "58a7935"
   },
   "outputs": [],
   "source": [
    "\n",
    "df_social['EA_BchDHE_percentage'] = 100*df_social['EA_LTHSGrE'] / df_social['EA_P25plE']\n",
    "bachelor_fig = px.choropleth_mapbox(\n",
    "    df_social,\n",
    "    geojson=geo_json,\n",
    "    locations='GeoID',\n",
    "    color='EA_BchDHE_percentage',\n",
    "    featureidkey='properties.district',\n",
    "    color_continuous_scale=\"Viridis\",\n",
    "    mapbox_style=\"carto-positron\",\n",
    "    zoom=9.25, center = {\"lat\": 40.72, \"lon\": -73.935242},\n",
    "    opacity=0.5,\n",
    "    labels={'EA_BchDHE_percentage':\"Less than high school graduate\" }\n",
    ")\n",
    "bachelor_fig.update_layout(margin={\"r\":0,\"t\":0,\"l\":0,\"b\":0})\n",
    "bachelor_fig.show()"
   ]
  },
  {
   "cell_type": "markdown",
   "id": "d43d3a66",
   "metadata": {
    "cell_id": "00076-21fde70f-a367-4e4c-8bfc-670a2871d2aa",
    "deepnote_cell_type": "markdown"
   },
   "source": [
    "The last plot above show us the percentage of people that they havent finish highscool \n",
    "\n",
    "We can get from all the above plots that the center MN districts have the most educated people, while on the oter hand the least educated leave in BX district."
   ]
  },
  {
   "cell_type": "markdown",
   "id": "2f130683",
   "metadata": {
    "cell_id": "00077-39b92468-11a6-420b-b137-8f549348cb44",
    "deepnote_cell_type": "markdown"
   },
   "source": [
    "##### Economic profile"
   ]
  },
  {
   "cell_type": "markdown",
   "id": "8d45c872",
   "metadata": {
    "cell_id": "00078-b9b2b4fc-171a-4704-9d62-2ab705754aef",
    "deepnote_cell_type": "markdown"
   },
   "source": [
    "As we said before also this dataset contains many different columns with different economic aspects for the districts. We are basicaly care about the income and benfit category. The variables in this category are aplaining the basic income of the tatal households for each district. The dataset can be downloaded here [link]( https://www1.nyc.gov/assets/planning/download/office/planning-level/nyc-population/acs/econ_2019_acs5yr_cdta.xlsx)"
   ]
  },
  {
   "cell_type": "code",
   "execution_count": null,
   "id": "2a8e4519",
   "metadata": {
    "cell_id": "00079-c193a8c5-9c6e-4ad0-bfb6-b1f7b76642ff",
    "deepnote_cell_type": "code",
    "deepnote_to_be_reexecuted": false,
    "execution_millis": 1607,
    "execution_start": 1652108830501,
    "source_hash": "79371b8d"
   },
   "outputs": [],
   "source": [
    "df_econ = pd.read_excel(\n",
    "    'https://www1.nyc.gov/assets/planning/download/office/planning-level/nyc-population/acs/econ_2019_acs5yr_cdta.xlsx',\n",
    ")\n",
    "df_econ = df_econ[df_econ['GeoID'].isin(df_recycling['district'])]"
   ]
  },
  {
   "cell_type": "markdown",
   "id": "3a5a9b39",
   "metadata": {
    "cell_id": "00081-0ecc2164-13d8-4ed2-a884-9299923712c7",
    "deepnote_cell_type": "markdown"
   },
   "source": [
    "In the next three maps we illustrate the Median household income per district and two other variable show the amount of households with income lower than 10,000 and more than 200,000. More than 90% of the districts dont have an income more that 200k. Only in the center of the NY you can find a few districts with that amount of house income. BK05 seems the district with the most people living with less than 10k.Where on the other hand MN07-8 is one of the destrict with the most rich people. "
   ]
  },
  {
   "cell_type": "code",
   "execution_count": null,
   "id": "ea721749",
   "metadata": {
    "cell_id": "00082-fa0582c0-cad6-470d-91d9-ec5898f70d59",
    "deepnote_cell_type": "code",
    "deepnote_to_be_reexecuted": false,
    "execution_millis": 1711,
    "execution_start": 1652108832692,
    "source_hash": "cf0fe812"
   },
   "outputs": [],
   "source": [
    "#Should we also make them % and not total number like before?\n",
    "\n",
    "income_fig = px.choropleth_mapbox(\n",
    "    df_econ,\n",
    "    geojson=geo_json,\n",
    "    locations='GeoID',\n",
    "    color='MdHHIncE',\n",
    "    featureidkey='properties.district',\n",
    "    color_continuous_scale=\"Viridis\",\n",
    "    mapbox_style=\"carto-positron\",\n",
    "    zoom=9.25, center = {\"lat\": 40.72, \"lon\": -73.935242},\n",
    "    opacity=0.5,\n",
    "    labels={'MdHHIncE':\"Median household income (USD)\" }\n",
    ")\n",
    "income_fig.update_layout(margin={\"r\":0,\"t\":0,\"l\":0,\"b\":0})\n",
    "income_fig.show()"
   ]
  },
  {
   "cell_type": "code",
   "execution_count": null,
   "id": "6f526b00",
   "metadata": {
    "cell_id": "00083-1bd7ebc5-432a-45a0-ba41-b7381e580bd1",
    "deepnote_cell_type": "code",
    "deepnote_to_be_reexecuted": false,
    "execution_millis": 1583,
    "execution_start": 1652108833865,
    "source_hash": "c4d115fb"
   },
   "outputs": [],
   "source": [
    "\n",
    "\n",
    "income_fig = px.choropleth_mapbox(\n",
    "    df_econ,\n",
    "    geojson=geo_json,\n",
    "    locations='GeoID',\n",
    "    color='HHIU10E',\n",
    "    featureidkey='properties.district',\n",
    "    color_continuous_scale=\"Viridis\",\n",
    "    mapbox_style=\"carto-positron\",\n",
    "    zoom=9.25, center = {\"lat\": 40.72, \"lon\": -73.935242},\n",
    "    opacity=0.5,\n",
    "    labels={'HHIU10E':\"Household income of less than 10,000(USD)\" }\n",
    ")\n",
    "income_fig.update_layout(margin={\"r\":0,\"t\":0,\"l\":0,\"b\":0})\n",
    "income_fig.show()"
   ]
  },
  {
   "cell_type": "code",
   "execution_count": null,
   "id": "2eee1695",
   "metadata": {
    "cell_id": "00084-7ac825b8-1399-4ec4-a0aa-955c2cf9e771",
    "deepnote_cell_type": "code",
    "deepnote_to_be_reexecuted": false,
    "execution_millis": 2052,
    "execution_start": 1652108835380,
    "source_hash": "c4d2412c"
   },
   "outputs": [],
   "source": [
    "income_fig = px.choropleth_mapbox(\n",
    "    df_econ,\n",
    "    geojson=geo_json,\n",
    "    locations='GeoID',\n",
    "    color='HHI200plE',\n",
    "    featureidkey='properties.district',\n",
    "    color_continuous_scale=\"Viridis\",\n",
    "    mapbox_style=\"carto-positron\",\n",
    "    zoom=9.25, center = {\"lat\": 40.72, \"lon\": -73.935242},\n",
    "    opacity=0.5,\n",
    "    labels={'HHI200plE':\"Income :$200,000 or more (USD)\" }\n",
    ")\n",
    "income_fig.update_layout(margin={\"r\":0,\"t\":0,\"l\":0,\"b\":0})\n",
    "income_fig.show()"
   ]
  },
  {
   "cell_type": "markdown",
   "id": "7d41f0ab",
   "metadata": {
    "cell_id": "00085-409a8038-dc87-4330-81d2-6a344c75f75b",
    "deepnote_cell_type": "markdown"
   },
   "source": [
    "##### Housing profile"
   ]
  },
  {
   "cell_type": "markdown",
   "id": "609952dc",
   "metadata": {
    "cell_id": "00086-d5f4ecf2-7189-4218-89b1-31acee2817d7",
    "deepnote_cell_type": "markdown"
   },
   "source": [
    "Last we have information about the NY households. Again we are only going to use variables regarding the number of rooms and the total value of the houses and not the hole dataset. The dataset can be obtain by the following [link](https://www1.nyc.gov/assets/planning/download/office/planning-level/nyc-population/acs/hous_2019_acs5yr_cdta.xlsx) "
   ]
  },
  {
   "cell_type": "code",
   "execution_count": null,
   "id": "8de13685",
   "metadata": {
    "cell_id": "00087-d28ce91f-8427-4c4e-aece-b9596ba9df51",
    "deepnote_cell_type": "code",
    "deepnote_to_be_reexecuted": false,
    "execution_millis": 1,
    "execution_start": 1652108837350,
    "owner_user_id": "a481eb13-a5cb-4549-99ee-c9371be1af82",
    "source_hash": "eb661a6b"
   },
   "outputs": [],
   "source": [
    "df_housing = pd.read_excel(\n",
    "    'https://www1.nyc.gov/assets/planning/download/office/planning-level/nyc-population/acs/hous_2019_acs5yr_cdta.xlsx',\n",
    ")\n",
    "df_housing = df_housing[df_housing['GeoID'].isin(df_recycling['district'])]"
   ]
  },
  {
   "cell_type": "code",
   "execution_count": null,
   "id": "3928efea",
   "metadata": {
    "cell_id": "00089-582b8789-9bf3-4b32-b585-994d170f2a83",
    "deepnote_cell_type": "code",
    "deepnote_table_loading": false,
    "deepnote_table_state": {
     "filters": [],
     "pageIndex": 0,
     "pageSize": 100,
     "sortBy": []
    },
    "deepnote_to_be_reexecuted": false,
    "execution_millis": 184140112,
    "execution_start": 1652108838857,
    "source_hash": "488af005",
    "tags": []
   },
   "outputs": [],
   "source": [
    "df_housing.groupby('GeoID')"
   ]
  },
  {
   "cell_type": "code",
   "execution_count": null,
   "id": "8edd7dc9",
   "metadata": {
    "cell_id": "00091-732a1a17-e19e-411e-bf0b-ea9dc6a7f231",
    "deepnote_cell_type": "code",
    "deepnote_to_be_reexecuted": false,
    "execution_millis": 2488,
    "execution_start": 1652108840747,
    "source_hash": "e680b2d7"
   },
   "outputs": [],
   "source": [
    "rooms_fig = px.choropleth_mapbox(\n",
    "    df_housing,\n",
    "    geojson=geo_json,\n",
    "    locations='GeoID',\n",
    "    color='MdRmsE',\n",
    "    featureidkey='properties.district',\n",
    "    color_continuous_scale=\"Viridis\",\n",
    "    mapbox_style=\"carto-positron\",\n",
    "    zoom=9.25, center = {\"lat\": 40.72, \"lon\": -73.935242},\n",
    "    opacity=0.5,\n",
    "    labels={'MdRmsE':\"Median number of rooms\" }\n",
    ")\n",
    "rooms_fig.update_layout(margin={\"r\":0,\"t\":0,\"l\":0,\"b\":0})\n",
    "rooms_fig.show()"
   ]
  },
  {
   "cell_type": "code",
   "execution_count": null,
   "id": "c38e3b22",
   "metadata": {
    "cell_id": "00092-47def707-bb8d-47bc-bb75-00080439d127",
    "deepnote_cell_type": "code",
    "deepnote_to_be_reexecuted": false,
    "execution_millis": 1891,
    "execution_start": 1652108842710,
    "scrolled": false,
    "source_hash": "ca3145f1"
   },
   "outputs": [],
   "source": [
    "rooms_fig = px.choropleth_mapbox(\n",
    "    df_housing,\n",
    "    geojson=geo_json,\n",
    "    locations='GeoID',\n",
    "    color='MdVlE',\n",
    "    featureidkey='properties.district',\n",
    "    color_continuous_scale=\"Viridis\",\n",
    "    mapbox_style=\"carto-positron\",\n",
    "    zoom=9.25, center = {\"lat\": 40.72, \"lon\": -73.935242},\n",
    "    opacity=0.5,\n",
    "    labels={'MdVlE':\"Median Value of the houses\" }\n",
    ")\n",
    "rooms_fig.update_layout(margin={\"r\":0,\"t\":0,\"l\":0,\"b\":0})\n",
    "rooms_fig.show()"
   ]
  },
  {
   "cell_type": "markdown",
   "id": "7d35704f",
   "metadata": {},
   "source": [
    "As we expected the city centered seams to have the most expensives houses with the smallest amount of rooms at the same time. The exact oposite trend can be found in the suburbs where the most cheap area to buy a house is in BX districts. "
   ]
  },
  {
   "cell_type": "code",
   "execution_count": null,
   "id": "c9b15743",
   "metadata": {
    "cell_id": "df2b4ef3e1f04371aaad96547750ebe0",
    "deepnote_cell_type": "code",
    "deepnote_to_be_reexecuted": false,
    "execution_millis": 1148,
    "execution_start": 1652109322480,
    "scrolled": true,
    "source_hash": "92b72ce",
    "tags": []
   },
   "outputs": [],
   "source": [
    "# Social-economic data frames\n",
    "data_se = [df_demo, df_social, df_econ, df_housing]\n",
    "df_se = reduce(lambda  left,right: pd.merge(left,right, on='GeoID'), data_se)\n",
    "recycling_avg = df_recycling.groupby('district').mean()"
   ]
  },
  {
   "cell_type": "markdown",
   "id": "978930f8",
   "metadata": {},
   "source": [
    "The vast majority of our interactive visualizations are derived from [NYC OpenData](https://data.cityofnewyork.us/) sources. As a part of our visualization, we demonstrate how we prepared the data for plotting. We export a geojson file in order to accomplish this. Each row represents one of the five boroughs: Brooklyn (Kings County), Queens (Queens County), Manhattan (New York County), the Bronx (Bronx County), and Staten Island (Richmond County). Detailed representations of each district are presented in the rows along with the data that will be plotted on the map. Geopandas dataframe is used to store districts' names and polygons. To create a plot, we merge it with the dataframe containing the rest of the data."
   ]
  },
  {
   "cell_type": "markdown",
   "id": "ef919de5",
   "metadata": {},
   "source": [
    "### Visualizations.\n"
   ]
  },
  {
   "cell_type": "markdown",
   "id": "1c311c07",
   "metadata": {},
   "source": [
    "In this Part we will present our main interactive plots that we also used in our website. These plots are a lot more complex and they are going to help us find all the paterns we need to form a worth telling story. We did not include the output in this parts since all the plots above can be found in our webpage. The notebook was too heavy to uploaded if we kept the plots here.\n"
   ]
  },
  {
   "cell_type": "markdown",
   "id": "a0841317",
   "metadata": {},
   "source": [
    "The first visualization is like the map we had before but this time we present with the same color the zones of each district and we have also a buttom to choose whether or not to show the recycling bins."
   ]
  },
  {
   "cell_type": "code",
   "execution_count": null,
   "id": "7de191c1",
   "metadata": {
    "scrolled": true
   },
   "outputs": [],
   "source": [
    "geo_data['dummy_value'] = np.arange(len(geo_data))\n",
    "district_fig = px.choropleth_mapbox(\n",
    "    geo_data,\n",
    "    geojson=geo_json,\n",
    "    locations='district',\n",
    "    color='dummy_value',\n",
    "    featureidkey='properties.district',\n",
    "    color_continuous_scale=\"Viridis\",\n",
    "    mapbox_style=\"carto-positron\",\n",
    "    zoom=9, center = {\"lat\": 40.72, \"lon\": -73.935242},\n",
    "    opacity=0.5,\n",
    "    hover_data = {'dummy_value':False},\n",
    "    labels={'district': 'District'},\n",
    ")\n",
    "\n",
    "district_fig.update_layout(\n",
    "    coloraxis_showscale=False,\n",
    "    width=700,\n",
    "    height=450,\n",
    "    margin={\"r\":0,\"t\":0,\"l\":0,\"b\":0})\n",
    "\n",
    "district_fig.add_scattermapbox(\n",
    "    lat=df_bins['latitude'],\n",
    "    lon=df_bins['longitude'],\n",
    "    mode = 'markers',\n",
    "    hoverinfo='skip',\n",
    "    visible=False\n",
    ")\n",
    "\n",
    "bin_button = dict(\n",
    "    label='Show recycling bins',\n",
    "    method='restyle',\n",
    "    args=[{'visible': True}, [1]],\n",
    "    args2=[{'visible': False}, [1]])\n",
    "\n",
    "# Create menus\n",
    "district_fig.update_layout(\n",
    "    updatemenus=[\n",
    "        dict(type='buttons', active=-1, y=1, x=0, xanchor='left', buttons=[bin_button])]\n",
    ")\n",
    "#district_fig.write_html(\"socialdata22-website/content/homepage/00_districts.html\")\n",
    "district_fig.show()"
   ]
  },
  {
   "cell_type": "markdown",
   "id": "9cacba3b",
   "metadata": {},
   "source": [
    "The second interactive plot presents diferent socialeconomic factors that the user can choose and see the impact they have in each district. Each time the user choose one factor the map is coroled based on it. The choise of showing or not the recycling bins is still there."
   ]
  },
  {
   "cell_type": "code",
   "execution_count": null,
   "id": "24fd20fd",
   "metadata": {},
   "outputs": [],
   "source": [
    "import plotly.graph_objects as go\n",
    "df_se = df_se.sort_values(by='GeoID')\n",
    "recycling_avg = recycling_avg.sort_values(by='district')\n",
    "\n",
    "# Map keyword arguments\n",
    "map_kwargs = dict(\n",
    "    geojson=geo_json,\n",
    "    featureidkey='properties.district',\n",
    "    locations=df_se.GeoID,\n",
    "    colorscale='Viridis',\n",
    "    hovertemplate = 'District: %{location}<br>%{meta[0]}: %{z:.1f}<extra></extra>',\n",
    "    colorbar_title = '%{meta[0]}',\n",
    "    marker_opacity=0.5,\n",
    "    marker_line_width=0,\n",
    ")\n",
    "\n",
    "# Layout keyword arguments\n",
    "layout_kwargs = dict(\n",
    "    title={\n",
    "        'text': 'Socio-economic factors and recycling behaviour by district',\n",
    "        'y': 0.975,\n",
    "        'x': 0.5,\n",
    "        'xanchor': 'center',\n",
    "        'yanchor': 'top'},\n",
    "    mapbox_style='carto-positron',\n",
    "    mapbox_zoom=9,\n",
    "    mapbox_center = {'lat': 40.72, 'lon': -73.935242},\n",
    "    margin={'r':0,'t':35,'l':182.5,'b':0},\n",
    "    legend=dict(yanchor='top', y=0.99, xanchor='left', x=0.01)\n",
    ")\n",
    "\n",
    "# Social-economic factors\n",
    "se_variables = [\n",
    "    'MdAgeE', 'EA_BchDHE_percentage', 'MdHHIncE','MdRmsE']\n",
    "\n",
    "se_names = [\n",
    "    'Median age', \"Percentage with<br>Bachelor's degree\",\n",
    "    'Median household<br>income (USD)',  'Median number<br>of rooms']\n",
    "\n",
    "n_se = len(se_variables)\n",
    "se_trace_idx = [i for i in range(n_se)]\n",
    "\n",
    "# Recycling variables\n",
    "rc_variables = [\n",
    "    'capture_rate_paper_total_paper_max_paper_',\n",
    "    'capture_rate_mgp_total_mgp_max_mgp_',\n",
    "    'capture_rate_total_total_recycling_leaves_recycling_max_paper_max_mgp_x100']\n",
    "\n",
    "rc_names = [\n",
    "    'Avg. paper<br>recycling rate',\n",
    "    'Avg. metal, glass,<br>plastic &<br>beverage cartons<br>recycling rate',\n",
    "    'Avg. total<br>recycling rate']\n",
    "n_rc = len(rc_variables)\n",
    "rc_trace_idx = [n_se + i for i in range(n_rc)]\n",
    "\n",
    "# All variables\n",
    "variables = se_variables + rc_variables\n",
    "names = se_names + rc_names\n",
    "trace_idx = se_trace_idx + rc_trace_idx\n",
    "n = n_se + n_rc\n",
    "\n",
    "# Create maps and buttons\n",
    "fig = go.Figure()\n",
    "buttons = list()\n",
    "for i, variable in enumerate(variables):\n",
    "    visible = True if i == 0 else False\n",
    "    \n",
    "    if i in rc_trace_idx:\n",
    "        df = recycling_avg\n",
    "    else:\n",
    "        df = df_se\n",
    "    \n",
    "    fig.add_trace(\n",
    "        go.Choroplethmapbox(\n",
    "            z=df[variable],\n",
    "            meta=[names[i]],\n",
    "            visible=visible,\n",
    "            **map_kwargs\n",
    "        )\n",
    "    )\n",
    "    visible = [True if j == i else False for j in trace_idx]\n",
    "    buttons.append(\n",
    "        dict(label=names[i], method='restyle', args=[{'visible': visible}, trace_idx])\n",
    "    )\n",
    "\n",
    "# Recycling bins\n",
    "fig.add_trace(\n",
    "    go.Scattermapbox(\n",
    "        lat=df_bins['latitude'],\n",
    "        lon=df_bins['longitude'],\n",
    "        mode = 'markers',\n",
    "        visible=False,\n",
    "        opacity=0.5,\n",
    "        hoverinfo='skip',\n",
    "        name='Recycling bins',\n",
    "        showlegend=True)\n",
    ")\n",
    "\n",
    "# Button for recycling bins\n",
    "bin_trace_idx = n\n",
    "bin_button = dict(\n",
    "    label='Show recycling bins',\n",
    "    method='restyle',\n",
    "    args=[{'visible': True}, [bin_trace_idx]],\n",
    "    args2=[{'visible': False}, [bin_trace_idx]])\n",
    "\n",
    "# Create menus\n",
    "fig.update_layout(\n",
    "    updatemenus=[\n",
    "        dict(type='buttons', active=-1, y=1, x=-0.225, xanchor='left', buttons=[bin_button]),\n",
    "        dict(type='buttons', active=0, y=0.85, x=-0.225, xanchor='left', buttons=buttons)]\n",
    ")\n",
    "\n",
    "# Add text annotations\n",
    "fig.add_annotation(\n",
    "            y=0.84,\n",
    "            x=-0.25,\n",
    "            textangle=270,\n",
    "            yanchor='top',\n",
    "            xanchor='right',\n",
    "            xref='paper',\n",
    "            yref='paper',\n",
    "            showarrow=False,\n",
    "            text='Socio-economic factors')\n",
    "\n",
    "fig.add_annotation(\n",
    "            y=0.52,\n",
    "            x=-0.25,\n",
    "            textangle=270,\n",
    "            yanchor='top',\n",
    "            xanchor='right',\n",
    "            xref='paper',\n",
    "            yref='paper',\n",
    "            showarrow=False,\n",
    "            text='Recycling variables')\n",
    "\n",
    "fig.update_layout(**layout_kwargs)\n",
    "fig.show()\n",
    "#fig.write_html(\"socio_economic_map.html\")"
   ]
  },
  {
   "cell_type": "markdown",
   "id": "b32cae79",
   "metadata": {},
   "source": [
    "The next plot shows how the recycling rates for Paper , Others and total have changed over the period of 2018-2019 that we had available data. The user can choose between one of these categories and see the change.  "
   ]
  },
  {
   "cell_type": "code",
   "execution_count": null,
   "id": "10a96abb",
   "metadata": {},
   "outputs": [],
   "source": [
    "df_recycling['year-month'] = (\n",
    "    df_recycling.fiscal_year.astype(str) + '-' +  df_recycling.fiscal_month_number.map('{:02d}'.format) )\n",
    "df_recycling['datetime'] = pd.to_datetime(df_recycling['year-month'])\n",
    "df_recycling = df_recycling.sort_values('datetime', ascending=True)\n",
    "\n",
    "df_district = pd.DataFrame(\n",
    "    {'district': np.sort(df_recycling.district.unique())}\n",
    ")\n",
    "\n",
    "# Map keyword arguments\n",
    "map_kwargs = dict(\n",
    "    geojson=geo_json,\n",
    "    featureidkey='properties.district',\n",
    "    locations=df_district.district,\n",
    "    colorscale='Viridis',\n",
    "    hovertemplate = 'District: %{location}<br>%{meta[0]}: %{z:.1f}<extra></extra>',\n",
    "    colorbar_title = '%{meta[0]}',\n",
    "    marker_opacity=0.5,\n",
    "    marker_line_width=0,\n",
    ")\n",
    "\n",
    "# Layout keyword arguments\n",
    "layout_kwargs = dict(\n",
    "    title={\n",
    "        'text': 'Recycling behaviour over time',\n",
    "        'y': 0.975,\n",
    "        'x': 0.5,\n",
    "        'xanchor': 'center',\n",
    "        'yanchor': 'top'},\n",
    "    mapbox_style=\"carto-positron\",\n",
    "    mapbox_zoom=9,\n",
    "    mapbox_center = {'lat': 40.72, 'lon': -73.935242},\n",
    "    margin={'r':0,'t':35,'l':182.5,'b':100},\n",
    "    legend=dict(yanchor='top', y=0.99, xanchor='left', x=0.01)\n",
    ")\n",
    "\n",
    "# Recycling variables\n",
    "rc_variables = [\n",
    "    'capture_rate_paper_total_paper_max_paper_',\n",
    "    'capture_rate_mgp_total_mgp_max_mgp_',\n",
    "    'capture_rate_total_total_recycling_leaves_recycling_max_paper_max_mgp_x100']\n",
    "\n",
    "rc_names = [\n",
    "    'Paper<br>recycling rate',\n",
    "    'Metal, glass,<br>plastic &<br>beverage cartons<br>recycling rate',\n",
    "    'Total<br>recycling rate']\n",
    "n_rc = len(rc_variables)\n",
    "\n",
    "fig = go.Figure()\n",
    "\n",
    "# Timepoints in the data\n",
    "tps = df_recycling['year-month'].unique()\n",
    "\n",
    "# Create trace for each variable and each time point\n",
    "for i, variable in enumerate(rc_variables):\n",
    "    for tp in tps:\n",
    "        # Make sure that values matches order of districts\n",
    "        df_z = df_recycling[df_recycling['year-month'] == tp].sort_values(by='district')\n",
    "        df_z = df_district.merge(df_z, on='district', how='left')\n",
    "        fig.add_trace(\n",
    "            go.Choroplethmapbox(\n",
    "                z=df_z[variable],\n",
    "                zmin = df_recycling[variable].min(),\n",
    "                zmax = df_recycling[variable].max(),\n",
    "                visible=False,\n",
    "                meta=[rc_names[i]],\n",
    "                **map_kwargs\n",
    "            ))\n",
    "\n",
    "# Make first trace visible\n",
    "fig.data[0].visible = True\n",
    "\n",
    "# Create list of steps for each variable\n",
    "steps = {variable: [] for variable in rc_variables}\n",
    "\n",
    "# Make steps\n",
    "for i, variable in enumerate(rc_variables):\n",
    "    for j in range(len(tps)):\n",
    "        step = dict(\n",
    "            label=tps[j],\n",
    "            method='restyle',\n",
    "            args=[{'visible': [False] * len(fig.data)}],\n",
    "        )\n",
    "        step['args'][0]['visible'][j + i*len(tps)] = True  # Toggle i'th trace to visible\n",
    "        steps[variable].append(step)\n",
    "\n",
    "# Create sliders\n",
    "sliders = list()\n",
    "for variable in rc_variables:\n",
    "    sliders.append([dict(active=0, currentvalue={'prefix': 'Year-Month: '}, steps=steps[variable])])\n",
    "    \n",
    "# Create buttons\n",
    "buttons = list()\n",
    "for i in range(n_rc):\n",
    "    buttons.append(\n",
    "         dict(label=rc_names[i], method='update', args=[{\"sliders\": sliders[i]},{\"sliders\": sliders[i]}, [i]])\n",
    "    )\n",
    "\n",
    "fig.update_layout(\n",
    "    updatemenus=[\n",
    "        dict(type='buttons', active=0, y=1, x=-0.225, xanchor='left', buttons=buttons)]\n",
    ")\n",
    "\n",
    "fig.update_layout(\n",
    "    sliders=sliders[0],\n",
    "    **layout_kwargs\n",
    ")\n",
    "fig.show()\n",
    "#fig.write_html(\"recycling_map.html\")"
   ]
  },
  {
   "cell_type": "markdown",
   "id": "2ecefc44",
   "metadata": {},
   "source": [
    "In the next plot we tried to see how different factors that we have already analyze affect the recycling rate. From the next plot the user can choose a category: Education,Econimics or Housing and compare the factors presented there with recycling. For example we can see that in districts with high percentage of bachelor degrees the recycling rates are also high. It also seems that in destricts like BX01, which is the lowest recycling percentage, the bachelor rates are too small and the uneducated people are many. "
   ]
  },
  {
   "cell_type": "code",
   "execution_count": null,
   "id": "23e7faea",
   "metadata": {},
   "outputs": [],
   "source": [
    "from bokeh.layouts import layout\n",
    "from bokeh.models import HoverTool\n",
    "from bokeh.palettes import Spectral6\n",
    "from bokeh.plotting import figure, show\n",
    "from bokeh.transform import factor_cmap\n",
    "from bokeh.models.widgets import Tabs, Panel\n",
    "from bokeh.io import output_notebook, curdoc\n",
    "from bokeh.models import ColumnDataSource, Legend, FactorRange\n",
    "from bokeh.transform import dodge\n",
    "\n",
    "output_notebook()\n",
    "\n",
    "df,df_bokeh = load_data()\n",
    "df = df_bokeh\n",
    "df.dropna(inplace=True)\n",
    "\n",
    "# Convert dataframe to ColumnDataSource\n",
    "src = ColumnDataSource(df)\n",
    "\n",
    "# Create empty figures\n",
    "p_education = figure(\n",
    "    plot_width=1200,\n",
    "    plot_height=700,\n",
    "    title='Recycling Rates by Education factors',\n",
    "    x_axis_label='Districts',\n",
    "    y_axis_label='Rates',\n",
    "    x_range=df['district']) \n",
    "\n",
    "p_economic = figure(\n",
    "    plot_width=1200,\n",
    "    plot_height=700,\n",
    "    title='Recycling Rates by Economic factors',\n",
    "    x_axis_label='Districts',\n",
    "    y_axis_label='Rates',\n",
    "    x_range=df['district'])\n",
    "\n",
    "p_housing = figure(\n",
    "    plot_width=1200,\n",
    "    plot_height=700,\n",
    "    title='Recycling Rates by Housing factors',\n",
    "    x_axis_label='Districts',\n",
    "    y_axis_label='Rates',\n",
    "    x_range=df['district'])\n",
    "\n",
    "# Define the columns to use for each bar\n",
    "bar_cols_education = ['value', 'bachelors_deg','No_diploma_percentage']\n",
    "legend_labels_education = ['Recycling rate', 'Bachelor degree %',\"Finsh high school with no other diploma\"]\n",
    "\n",
    "# List for legend items \n",
    "items_education = []\n",
    "items_economic = []\n",
    "items_housing = []\n",
    "\n",
    "bars_education = {}\n",
    "bars_economic = {}\n",
    "bars_housing = {}\n",
    "x = -0.25\n",
    "for idx, col in enumerate(bar_cols_education):\n",
    "    bars_education[col] = p_education.vbar(\n",
    "        x=dodge('district', x, range=p_education.x_range),#'district',\n",
    "        top=col,\n",
    "        source=src, \n",
    "        legend_label=legend_labels_education[idx],\n",
    "        color=Spectral6[idx],\n",
    "        width=0.2,\n",
    "        muted = True)\n",
    "    items_education.append((legend_labels_education[idx], [bars_education[col]]))\n",
    "    x = x+0.25\n",
    "p_education.xaxis.axis_label_standoff = 250    \n",
    "\n",
    "    \n",
    "bar_cols_economic = ['value', 'less_than_10k','More_than_200k']\n",
    "legend_labels_economic = ['Recycling rate', 'Less than 10k $',\"More than 200k $\"]\n",
    "\n",
    "x = -0.25\n",
    "\n",
    "for idx, col in enumerate(bar_cols_economic):    \n",
    "    bars_economic[col] = p_economic.vbar(\n",
    "        x=dodge('district', x, range=p_economic.x_range),\n",
    "        top=col,\n",
    "        source=src, \n",
    "        legend_label=legend_labels_economic[idx],\n",
    "        color=Spectral6[idx],\n",
    "        width=0.2,\n",
    "        muted = True)\n",
    "    items_economic.append((legend_labels_economic[idx], [bars_economic[col]]))\n",
    "    x = x+0.25\n",
    "p_economic.xaxis.axis_label_standoff = 250    \n",
    "\n",
    "bar_cols_housing = ['value', 'less_than_200k','More_than_1m']\n",
    "legend_labels_housing = ['Recycling rate', 'House Cost less than 200k ($)','House Cost more than 1M($)']\n",
    "\n",
    "x = -0.25\n",
    "\n",
    "for idx, col in enumerate(bar_cols_housing):    \n",
    "    bars_housing[col] = p_housing.vbar(\n",
    "        x=dodge('district', x, range=p_housing.x_range),\n",
    "        top=col,\n",
    "        source=src, \n",
    "        legend_label=legend_labels_housing[idx],\n",
    "        color=Spectral6[idx],\n",
    "        width=0.2,\n",
    "        muted = True)\n",
    "    items_housing.append((legend_labels_housing[idx], [bars_housing[col]]))\n",
    "    x = x+0.25\n",
    "\n",
    "p_housing.xaxis.axis_label_standoff = 250    \n",
    "\n",
    "p_education.legend.visible = False\n",
    "p_economic.legend.visible = False\n",
    "p_housing.legend.visible = False\n",
    "\n",
    "legend_education = Legend(items=items_education, location='top_left')\n",
    "legend_economic = Legend(items=items_economic, location='top_left')\n",
    "legend_housing = Legend(items=items_housing, location='top_left')\n",
    "p_education.add_layout(legend_education, 'left')\n",
    "p_economic.add_layout(legend_economic, 'left')\n",
    "p_housing.add_layout(legend_housing, 'left')\n",
    "\n",
    "p_education.legend.click_policy = \"mute\" #you can also try \"hide\"\n",
    "p_economic.legend.click_policy = \"mute\"\n",
    "p_housing.legend.click_policy = \"mute\"\n",
    "\n",
    "p_education.add_tools(HoverTool(\n",
    "    tooltips=[\n",
    "        (\"Recycling rates\", \"@value{0.00}\"),\n",
    "        (\"Percentage of citizens with bechelor degree\", \"@bachelors_deg{0.00}\"),\n",
    "        (\"Percentage of citizens with no degree\", \"@No_diploma_percentage{0.00}\")],\n",
    "    renderers=[bars_education['value']]))\n",
    "p_economic.add_tools(HoverTool(\n",
    "    tooltips=[\n",
    "        (\"Recycling rates\", \"@value{0.00}\"),\n",
    "        (\"Houses with icnome more than 200k\", \"@More_than_200k{0.00}\"),\n",
    "        (\"Houses with icnome less than 10k\", \"@less_than_10k{0.00}\")],\n",
    "    renderers=[bars_economic['value']]))\n",
    "p_housing.add_tools(HoverTool(\n",
    "    tooltips=[\n",
    "        (\"Recycling rates\", \"@value{0.00}\"),\n",
    "        (\"Houses with cost less than 200k\", \"@less_than_200k{0.00}\"),\n",
    "        (\"Houses with cost more than 1M\", \"@More_than_1m{0.00}\")],\n",
    "    renderers=[bars_housing['value']]))\n",
    "\n",
    "p_education.xaxis.major_label_orientation = 1.2#\"vertical\"\n",
    "p_economic.xaxis.major_label_orientation = 1.2#\"vertical\"\n",
    "p_housing.xaxis.major_label_orientation = 1.2#\"vertical\"\n",
    "\n",
    "\n",
    "l1 = layout([[p_education]])\n",
    "l2 = layout([[p_economic]])\n",
    "l3 = layout([[p_housing]])\n",
    "\n",
    "tab1 = Panel(child=l1, title=\"Education\")\n",
    "tab2 = Panel(child=l2, title=\"Economics\")\n",
    "tab3 = Panel(child=l3, title=\"Housing\")\n",
    "tabs = Tabs(tabs=[tab1, tab2, tab3])\n",
    "\n",
    "curdoc().add_root(tabs)\n",
    "show(tabs)"
   ]
  },
  {
   "cell_type": "markdown",
   "id": "808e5d97",
   "metadata": {},
   "source": [
    "In our last plot the user is able to see the areas which their distance is closer to a recycling bin. With this vizualization we want to show that there are some areas with limited access to a bin and that is something that can also affect the recycling rates of that area."
   ]
  },
  {
   "cell_type": "code",
   "execution_count": null,
   "id": "2316560a",
   "metadata": {},
   "outputs": [],
   "source": [
    "import zipfile\n",
    "from io import BytesIO\n",
    "import requests\n",
    "\n",
    "url = 'https://www1.nyc.gov/assets/planning/download/zip/data-maps/open-data/nyc_pluto_21v4_csv.zip'\n",
    "r = requests.get(url)\n",
    "buf1 = BytesIO(r.content)\n",
    "with zipfile.ZipFile(buf1, \"r\") as f:\n",
    "    for name in f.namelist():\n",
    "        if name.endswith('.csv'):\n",
    "            with f.open(name) as zd:\n",
    "                df_pluto = pd.read_csv(zd, low_memory=False)\n",
    "            break\n",
    "            \n",
    "#df_pluto = pd.read_csv('https://www1.nyc.gov/assets/planning/download/zip/data-maps/open-data/nyc_pluto_21v4_csv.zip', low_memory=False)\n",
    "df_districts = pd.read_csv('https://data.cityofnewyork.us/api/views/i6mn-amj2/rows.csv?accessType=DOWNLOAD')[['DISTRICT', 'DISTRICTCODE']]\n",
    "df_bins = pd.read_csv('https://data.cityofnewyork.us/resource/sxx4-xhzg.csv')\n",
    "\n",
    "df_pluto = df_pluto.merge(df_districts, left_on='cd', right_on='DISTRICTCODE')\n",
    "df_pluto = df_pluto[['DISTRICT','latitude', 'longitude', 'borough']]\n",
    "df_pluto = df_pluto.dropna()\n",
    "df_bins = df_bins[df_bins['latitude'].notna() & df_bins['longitude'].notna()]\n",
    "\n",
    "# Compute coordinates in radians\n",
    "df_pluto['latitude_rad'] = df_pluto['latitude'].map(radians)\n",
    "df_pluto['longitude_rad'] = df_pluto['longitude'].map(radians)\n",
    "df_bins['latitude_rad'] = df_bins['latitude'].map(radians)\n",
    "df_bins['longitude_rad'] = df_bins['longitude'].map(radians)\n",
    "\n",
    "# Compute pairwise haversine distances\n",
    "distances = haversine_distances(\n",
    "    df_pluto[['latitude_rad', 'longitude_rad']].to_numpy(),\n",
    "    df_bins[['latitude_rad', 'longitude_rad']].to_numpy()\n",
    ")\n",
    "# Convert to km\n",
    "distances = distances * 6371000/1000\n",
    "\n",
    "# Distance to nearest bin\n",
    "min_distances = distances.min(axis=1)\n",
    "\n",
    "df_pluto['bin_distance'] = min_distances\n",
    "\n",
    " \n"
   ]
  },
  {
   "cell_type": "code",
   "execution_count": null,
   "id": "71ecd6cc",
   "metadata": {
    "scrolled": true
   },
   "outputs": [],
   "source": [
    "# Setup colormap\n",
    "colors = ['#edf8fb','#b2e2e2','#66c2a4','#2ca25f','#006d2c']\n",
    "colors.reverse()\n",
    "vmin = 0\n",
    "vmax = min_distances.max()\n",
    "levels = len(colors)\n",
    "cm = branca.colormap.LinearColormap(colors, vmin=vmin, vmax=vmax).to_step(levels)\n",
    "\n",
    "# The original data\n",
    "x_orig = df_pluto.longitude.to_numpy()\n",
    "y_orig = df_pluto.latitude.to_numpy()\n",
    "z_orig = df_pluto.bin_distance.to_numpy()\n",
    "# Make a grid\n",
    "x_arr = np.linspace(np.min(x_orig), np.max(x_orig), 1000)\n",
    "y_arr = np.linspace(np.min(y_orig), np.max(y_orig), 1000)\n",
    "x_mesh, y_mesh = np.meshgrid(x_arr, y_arr)\n",
    " \n",
    "# Grid the values\n",
    "z_mesh = griddata((x_orig, y_orig), z_orig, (x_mesh, y_mesh), method='linear')\n",
    " \n",
    "# Create the contour\n",
    "contourf = plt.contourf(\n",
    "    x_mesh, y_mesh, z_mesh, levels, alpha=0.5, colors=colors, linestyles='None', vmin=vmin, vmax=vmax)\n",
    " \n",
    "# Convert matplotlib contourf to geojson\n",
    "geojson = geojsoncontour.contourf_to_geojson(\n",
    "    contourf=contourf)\n",
    "\n",
    "# Set up the folium plot\n",
    "geomap = folium.Map([40.72, -73.935242], zoom_start=10, tiles=\"cartodbpositron\")\n",
    " \n",
    "# Plot the contour plot on folium\n",
    "folium.GeoJson(\n",
    "    geojson,\n",
    "    style_function=lambda x: {\n",
    "        'color':     x['properties']['stroke'],\n",
    "        'weight':    x['properties']['stroke-width'],\n",
    "        'fillColor': x['properties']['fill'],\n",
    "        'opacity':   0.6,\n",
    "    }).add_to(geomap)\n",
    "\n",
    "# Add the colormap to the folium map\n",
    "cm.caption = 'Distance to nearest public recycling bin (km)'\n",
    "geomap.add_child(cm)"
   ]
  },
  {
   "cell_type": "markdown",
   "id": "ee8faf31",
   "metadata": {
    "cell_id": "087a1eb049684794853aee2fcf23e5cd",
    "deepnote_cell_type": "code",
    "tags": []
   },
   "source": [
    "### Data Analysis\n"
   ]
  },
  {
   "cell_type": "markdown",
   "id": "cb8ea179",
   "metadata": {
    "cell_id": "db5c71955d4346e1b4b61fa46be08d9a",
    "deepnote_cell_type": "markdown",
    "tags": []
   },
   "source": [
    "#### Using linear regression to predict recycling rates based on socioeconomic variables\n",
    "\n",
    "Previously, we observed that socioeconomic factors for the districts may be helpful in predicting recycling rates in the city based on the correlation between recycling data and socioeconomic factors. This section examines the relationship between recycling rates and socioeconomic factors using a linear regression model. We will examine different regrassion models in order to predict the target class (Recycling rates) and also observe the feature importance of our models to see if we can gain usefull information."
   ]
  },
  {
   "cell_type": "markdown",
   "id": "bee357e3",
   "metadata": {},
   "source": [
    "The final DF we used for our analysis is a combination of different variables that we choosed to use from the others."
   ]
  },
  {
   "cell_type": "code",
   "execution_count": null,
   "id": "ecfe4e97",
   "metadata": {},
   "outputs": [],
   "source": [
    "df,df_bokeh = load_data()\n",
    "\n",
    "#use the avarage bin distance we calculate before for our regrassion model\n",
    "df['bin_distance'] = df_pluto['bin_distance']"
   ]
  },
  {
   "cell_type": "code",
   "execution_count": null,
   "id": "4fc20939",
   "metadata": {},
   "outputs": [],
   "source": [
    "# get the dummies and store it in a variable\n",
    "#dummies = pd.get_dummies(df._zone)\n",
    "# Concatenate the dummies to original dataframe\n",
    "#df = pd.concat([df, dummies], axis='columns')\n",
    " \n",
    "# drop the values\n",
    "df.drop(['_zone','with_computer',\"percent_female\",\"percent_male\",\"unemployed\",'_1970_population','_1980_population','_1990_population','Age_40_64','Age_20_39','_2000_population','Age_0_19','Age_65_74','Age_75_over'], axis='columns',inplace=True)"
   ]
  },
  {
   "cell_type": "markdown",
   "id": "306e8043",
   "metadata": {},
   "source": [
    "Here we can observe all the variables that we are going to investigate with our regrassion models"
   ]
  },
  {
   "cell_type": "code",
   "execution_count": null,
   "id": "3bc8eded",
   "metadata": {},
   "outputs": [],
   "source": [
    "df.info()"
   ]
  },
  {
   "cell_type": "code",
   "execution_count": null,
   "id": "453e35b3",
   "metadata": {},
   "outputs": [],
   "source": [
    "import seaborn as sns\n",
    "\n",
    "# Helper function for plotting feature importance\n",
    "def plot_features(columns, importances, n=20):\n",
    "    df = (pd.DataFrame({\"features\": columns,\n",
    "                        \"feature_importance\": importances})\n",
    "          .sort_values(\"feature_importance\", ascending=False)\n",
    "          .reset_index(drop=True))\n",
    "    \n",
    "    sns.barplot(x=\"feature_importance\",\n",
    "                y=\"features\",\n",
    "                data=df[:n],\n",
    "                orient=\"h\")"
   ]
  },
  {
   "cell_type": "code",
   "execution_count": null,
   "id": "48984f26",
   "metadata": {},
   "outputs": [],
   "source": [
    "from sklearn.ensemble import GradientBoostingRegressor\n",
    "from sklearn.metrics import mean_squared_error\n",
    "from sklearn.model_selection import train_test_split\n",
    "from sklearn.preprocessing import StandardScaler\n",
    "from sklearn import preprocessing\n",
    "import math\n",
    "\n",
    "targets = np.array(df.value)\n",
    "df = df.drop([\"value\"], axis=1)\n",
    "data = np.array(df)\n",
    "scaler = preprocessing.StandardScaler()\n",
    "\n",
    "\n",
    "X_train,X_test,y_train,y_test = train_test_split(data,targets,test_size=0.10,random_state=5)\n",
    "scaler.fit(X_train)\n",
    "\n",
    "regressor = GradientBoostingRegressor(learning_rate=0.1, n_estimators=50, verbose=1,random_state =5)\n",
    "regressor.fit(X_train, y_train)\n",
    "\n",
    "\n",
    "rmse = math.sqrt(mean_squared_error( regressor.predict(X_test), y_test ))\n",
    "print(f'The final MSE for the regression model is {rmse:.2f}')"
   ]
  },
  {
   "cell_type": "code",
   "execution_count": null,
   "id": "ded3ead6",
   "metadata": {},
   "outputs": [],
   "source": [
    "from sklearn.inspection import permutation_importance\n",
    "feature_importance = regressor.feature_importances_\n",
    "sorted_idx = np.argsort(feature_importance)\n",
    "pos = np.arange(sorted_idx.shape[0]) + 0.5\n",
    "fig = plt.figure(figsize=(12, 8))\n",
    "plt.subplot(1, 2, 1)\n",
    "plt.barh(pos, feature_importance[sorted_idx], align=\"center\")\n",
    "plt.yticks(pos, np.array(df.columns)[sorted_idx])\n",
    "plt.title(\"Feature Importance (MDI)\")\n",
    "\n",
    "result = permutation_importance(\n",
    "    regressor, data, targets, n_repeats=10, random_state=42, n_jobs=2\n",
    ")\n",
    "sorted_idx = result.importances_mean.argsort()\n",
    "plt.subplot(1, 2, 2)\n",
    "plt.boxplot(\n",
    "    result.importances[sorted_idx].T,\n",
    "    vert=False,\n",
    "    labels=np.array(df.columns)[sorted_idx],\n",
    ")\n",
    "plt.title(\"Permutation Importance (test set)\")\n",
    "fig.tight_layout()\n",
    "plt.show()"
   ]
  },
  {
   "cell_type": "markdown",
   "id": "c1224194",
   "metadata": {},
   "source": [
    "From the plot above we can see the feature importance for the regrassion model we trained. The findings are very intresting since we see that the model consider the income as the most valuable feature with the employment status and the avarage age to follow. Variables as the income and the distance from the recycling bins are also consider as we expected important while other variables ralates to the ethnicity of the people seams also valuable for the model. On the other hand the house value, the number of total population of the district as well as variables like the Percentage with diploma and the meian income seems to be irrelevant for the model.\n",
    "\n",
    "All in all the model validate some of our initial thoughts about factors that can affect the recycling rates and also discovered some new like the employment status and their ethnicity."
   ]
  },
  {
   "cell_type": "code",
   "execution_count": null,
   "id": "b8e587b7",
   "metadata": {},
   "outputs": [],
   "source": [
    "sns.set(rc={'figure.figsize':(10,8)})\n",
    "df[\"value\"] = targets\n",
    "sns.heatmap(df.corr())"
   ]
  },
  {
   "cell_type": "markdown",
   "id": "ffc31be1",
   "metadata": {},
   "source": [
    "The plot here illustrates the correlation matrix of our dataset. We can also see from that that the variable less than 10k is neggative corelated with our target variable. This means that the more people with small income a district has the less the recycling rate will be. "
   ]
  },
  {
   "cell_type": "markdown",
   "id": "1e499fbb",
   "metadata": {},
   "source": [
    "We also tried some more machine learning models to see if we could minimize the rmse. The GradientBoosting regrassion seems that performs the best. We cross validate all the models while we also make a grid search for the value of alphas for both Lasso and Ridge regrassion."
   ]
  },
  {
   "cell_type": "code",
   "execution_count": null,
   "id": "01b4ed7a",
   "metadata": {},
   "outputs": [],
   "source": [
    "from sklearn.linear_model import LassoCV\n",
    "\n",
    "lasso_alphas = np.linspace(0, 10, 30)\n",
    "\n",
    "\n",
    "reg = LassoCV(alphas=lasso_alphas, cv=15).fit(X_train, y_train)\n",
    "rmse = math.sqrt(mean_squared_error( reg.predict(X_test), y_test ))\n",
    "rmse"
   ]
  },
  {
   "cell_type": "code",
   "execution_count": null,
   "id": "20607024",
   "metadata": {},
   "outputs": [],
   "source": [
    "from sklearn.linear_model import Ridge\n",
    "from sklearn.linear_model import LinearRegression\n",
    "from sklearn.model_selection import cross_val_score\n",
    "from sklearn.model_selection import KFold\n",
    "from sklearn.model_selection import GridSearchCV\n",
    "\n",
    "folds = KFold(n_splits = 10, shuffle = True, random_state = 100)\n",
    "hyper_params = [{'alpha': np.linspace(0, 2, 40)}]\n",
    "\n",
    "reg = Ridge()\n",
    "\n",
    "\n",
    "model_cv = GridSearchCV(estimator = reg, \n",
    "                        param_grid = hyper_params, \n",
    "                        scoring= 'r2', \n",
    "                        cv = folds, \n",
    "                        verbose = 1,\n",
    "                        return_train_score=True)      \n",
    "\n",
    "# fit the model\n",
    "model_cv.fit(X_train, y_train)    \n"
   ]
  },
  {
   "cell_type": "code",
   "execution_count": null,
   "id": "a7a012ef",
   "metadata": {},
   "outputs": [],
   "source": [
    "# cv results\n",
    "cv_results = pd.DataFrame(model_cv.cv_results_)\n",
    "cv_results.head(5)"
   ]
  },
  {
   "cell_type": "code",
   "execution_count": null,
   "id": "abbeb7d7",
   "metadata": {},
   "outputs": [],
   "source": [
    "# plotting cv results\n",
    "plt.figure(figsize=(10,6))\n",
    "\n",
    "plt.plot(cv_results[\"param_alpha\"], cv_results[\"mean_test_score\"])\n",
    "plt.plot(cv_results[\"param_alpha\"], cv_results[\"mean_train_score\"])\n",
    "plt.xlabel('alpha')\n",
    "plt.ylabel('r-squared')\n",
    "plt.title(\"Optimal Number of Alpha\")\n",
    "plt.legend(['test score', 'train score'], loc='upper left')"
   ]
  },
  {
   "cell_type": "code",
   "execution_count": null,
   "id": "3c27f3e2",
   "metadata": {},
   "outputs": [],
   "source": [
    "# final model\n",
    "alpha = 1\n",
    "\n",
    "reg = Ridge(alpha=10).fit(X_train, y_train)\n",
    "rmse = math.sqrt(mean_squared_error( reg.predict(X_test), y_test ))\n",
    "rmse"
   ]
  },
  {
   "cell_type": "markdown",
   "id": "d3d4acd6",
   "metadata": {},
   "source": [
    "For our last part of our analysis we will also try to see how a normal linear regrassion model performs and some plots we can have from that model. We will start by plotting the most important variables pairwise."
   ]
  },
  {
   "cell_type": "code",
   "execution_count": null,
   "id": "0c5eaedc",
   "metadata": {},
   "outputs": [],
   "source": [
    "# Get columns to keep and create new dataframe with those only\n",
    "cols = ['employed','less_than_10k','born_nyc','percent_us_citizen','less_than_200k','Hsp1P','gross_rent_median','More_than_200k']\n",
    "features = df[cols]\n",
    "features['value'] = targets\n",
    "sns.pairplot(features)"
   ]
  },
  {
   "cell_type": "code",
   "execution_count": null,
   "id": "4c49c41e",
   "metadata": {},
   "outputs": [],
   "source": [
    "from scipy import stats\n",
    "#450 height\n",
    "#700 pixels\n",
    "\n",
    "def pearsonr_ci(x,y,alpha=0.05):\n",
    "    ''' calculate Pearson correlation along with the confidence interval using scipy and numpy\n",
    "    Parameters\n",
    "    ----------\n",
    "    x, y : iterable object such as a list or np.array\n",
    "      Input for correlation calculation\n",
    "    alpha : float\n",
    "      Significance level. 0.05 by default\n",
    "    Returns\n",
    "    -------\n",
    "    r : float\n",
    "      Pearson's correlation coefficient\n",
    "    pval : float\n",
    "      The corresponding p value\n",
    "    lo, hi : float\n",
    "      The lower and upper bound of confidence intervals\n",
    "    '''\n",
    "\n",
    "    r, p = stats.pearsonr(x,y)\n",
    "    r_z = np.arctanh(r)\n",
    "    se = 1/np.sqrt(x.size-3)\n",
    "    z = stats.norm.ppf(1-alpha/2)\n",
    "    lo_z, hi_z = r_z-z*se, r_z+z*se\n",
    "    lo, hi = np.tanh((lo_z, hi_z))\n",
    "    return r, p, lo, hi\n",
    "\n",
    "\n",
    "data = features.drop('value',axis=1)\n",
    "\n",
    "fig = plt.figure(figsize=(15,20))\n",
    "for i in range(len(data.columns)):\n",
    "    fig.add_subplot(5, 3, i+1)\n",
    "    ax = sns.regplot(x=df['value'], y = data[data.columns[i]], ci = 95)\n",
    "    bbox_props = dict(boxstyle=\"round,pad=0.2\", fc=\"white\", ec='white', lw=0, alpha=0.6)\n",
    "    ax.annotate(\"r = {:.2f}\".format(pearsonr_ci(x=df['value'], y = data[data.columns[i]])[0]), xy=(.7, .9), xycoords=ax.transAxes, bbox=bbox_props)\n",
    "    ax.annotate(\"p = {:.2f}\".format(pearsonr_ci(x=df['value'], y = data[data.columns[i]])[1]), xy=(.7, .82), xycoords=ax.transAxes, bbox=bbox_props)\n",
    "    plt.ylabel(data.columns[i])\n",
    "    plt.subplots_adjust(wspace=0.4)\n",
    "       \n",
    "plt.show()"
   ]
  },
  {
   "cell_type": "markdown",
   "id": "b68f1b38",
   "metadata": {},
   "source": [
    "On the plot above we can see the Pearson correlation between our target variable and the 8 most rellevant features. We can clearly observe the possitive corralation in the employed variable and the neggative one in the less than 10k"
   ]
  },
  {
   "cell_type": "code",
   "execution_count": null,
   "id": "7d66bad3",
   "metadata": {},
   "outputs": [],
   "source": [
    "from sklearn.linear_model import LinearRegression\n",
    "lm = LinearRegression()\n",
    "lm.fit(X_train,y_train)"
   ]
  },
  {
   "cell_type": "code",
   "execution_count": null,
   "id": "43144c20",
   "metadata": {},
   "outputs": [],
   "source": [
    "# print the intercept\n",
    "print(lm.intercept_)"
   ]
  },
  {
   "cell_type": "code",
   "execution_count": null,
   "id": "d445cda7",
   "metadata": {},
   "outputs": [],
   "source": [
    "coeff_df = pd.DataFrame(lm.coef_,df.drop('value',1).columns,columns=['Coefficient'])\n",
    "coeff_df.reindex(coeff_df.Coefficient.abs().sort_values(ascending=False).index)"
   ]
  },
  {
   "cell_type": "markdown",
   "id": "38383869",
   "metadata": {},
   "source": [
    "On the above plot we have the coeffitients of our simple regrassion model. We observe that the Median age variable has the highest neggative coeffitient. This basicaly means that the younger people recycle more than the oldest ones. But we cant take that as a grand truth since our model is too simple and with very few observation so its not that much trusted."
   ]
  },
  {
   "cell_type": "markdown",
   "id": "ce1a3d38",
   "metadata": {
    "cell_id": "00094-f6fd6462-d698-4ada-aaab-163f52c4fb1c",
    "deepnote_cell_type": "markdown",
    "tags": []
   },
   "source": [
    "### Genre\n",
    "#### Which genre of data story did you use?\n",
    "For our major genre, we went with a partitioned poster. We also incorporated elements from other genres. For example, we utilized also the annotated charts to explain some main features of our data.\n",
    "\n",
    "#### Which tools did you use from each of the 3 categories of Visual Narrative (Figure 7 in Segal and Heer). Why?\n",
    "\n",
    "From the visual structuring category we mainly used the Consistent Visual Platform category as we had as our main vizualization a map which could change based on the users choise. From the highlighting category we used close-ups and zooming to give the user a focus on the NY districts and zones, where we wanted to guide to. We also used motion in the maps for over the years change of the recycling behaviors - giving the user a visual aid to see the different patterns. We lastly used feature distinction a lot in our interactive map providing the user a tool to distinguish between different socialeconomic factors or recycling behaviors. The transition guidance category did not apply to our project so none of the strategies from that category were used.\n",
    "\n",
    "\n",
    "#### Which tools did you use from each of the 3 categories of Narrative Structure (Figure 7 in Segal and Heer). Why?\n",
    "\n",
    "From the ordering category we used user directed path, since you explore the website by scrolling down the site. We mainly direct the user through the story we want to tell while he is scrolling down the page when at the same time we are also giving the user freedom to explore for himself. From the interactive category we used stimulating default views, all of our maps were already zoomed in the NY area. We also used explicit instruction, giving the user instruction and suggestions on how to navigate to the visualizations. In addition to that we used filtering/selection/search for example in most of our maps and in the bar plot th user could filter the information he wanted to see. This was all done to guide the user through the visualization. Lastly from the messaging category we used introductory text at the top of the website to introduce the user to introduce the user to the problem and we also used the Summary/Synthesis category at the end to finish our story."
   ]
  },
  {
   "cell_type": "markdown",
   "id": "18e180ad",
   "metadata": {},
   "source": [
    "### Explain the visualizations you've chosen.\n"
   ]
  },
  {
   "cell_type": "markdown",
   "id": "b43f220c",
   "metadata": {},
   "source": [
    "Several visualizations were developed to guide the viewer through a general exploration of the data sets, to a more detailed analysis of recycling behavior:\n",
    "\n",
    "##### Bar Chart\n",
    "\n",
    "One simple but important visualization tool. Provides an overview of the data as well as the reasoning behind the visuals. We made some bar chrats plots at the beggining of our analysis whitch helped us understand the data better. \n",
    "\n",
    "##### Interactive bar charts\n",
    "\n",
    "A more advanced chart in which the user had the oportunity to choose different aspects of the problem and visualized them. This also gives you more freedom to explore without being overwhelmed by a lot of information because you can choose what you want to look at.\n",
    "\n",
    "##### Interactive maps\n",
    "\n",
    "Our most explainable plots due to the format of our data. We managed to create many different interactive maps for different variables regarding the NY. All of our data was district based so no other plot was really intresteed to investigate. With these maps we manage to explain our datasets find patterns and also make the user part of the analysis.\n"
   ]
  },
  {
   "cell_type": "markdown",
   "id": "0e7dbe3d",
   "metadata": {},
   "source": [
    "#### Why are they right for the story you want to tell?"
   ]
  },
  {
   "cell_type": "markdown",
   "id": "531b245f",
   "metadata": {},
   "source": [
    "Our initial goal was to investigate whether or not different social or economic factors affects the rates of recycling. As we mention before most of our data was geo data or based on each of the 59 NY districts. The use of maps to illustrate them seemed nesecessary and proved very helpful. In order to support these map plots we also choose to consider other simplier plots like bar plots. From these plots we had the chance to compare different values because we could present them at the same time with others. This was something that the map could not provide us. Overall, we believe that our plot choises were the best for both understanding the data as well as analyzing them.  "
   ]
  },
  {
   "cell_type": "markdown",
   "id": "9111d82a",
   "metadata": {
    "cell_id": "00096-333cd29c-718e-4e47-8566-65e527d7806a",
    "deepnote_cell_type": "markdown",
    "tags": []
   },
   "source": [
    "### Discussion. Think critically about your creation\n",
    "#### What went well, what was missing and what could be improved."
   ]
  },
  {
   "cell_type": "markdown",
   "id": "e129afc9",
   "metadata": {
    "cell_id": "00097-bf3f31b3-c39e-4a09-a8d5-248511ec151b",
    "deepnote_cell_type": "markdown",
    "tags": []
   },
   "source": [
    "We cleaned, explored, combined, and explained a number of data sets, as well as developed some interactive visualizations to summarize some of our main findings. The data set was first explored, and then the project scope was narrowed gradually, in order to create a website that conveyed a clear message.\n",
    "The behavior of New York residents regarding recycling has been difficult to explain using socioeconomic factors since there is great variability in recycling rates across different districts, which cannot be explained by only socioeconomic factors. Even though we strongly believe that we end up with some usefull patterns. Factors like the educational level and the income per house seemed to follow the same trend with the recycling rates. All districts with more than 40% of their people having a bachelor degree also had recycling rates over 40%. Moreover, if we see the districts with the lowest rec rates they also have one of the highest uneducate percentage to their people and one of the lowest percentage of high educated at the same time. The same pattern follows the yearly income, where the lowest recycling rates districts also have the lowest yearly incomes. Our analysis didnt follow the same results in the avarage house price per district. In that factor although we have some results that can follow the upper trend in some districts, there are others that they dont validate them also. Another intresting pattern was that the avarage bin distance didnt affect allot the recycling rates. The only exception was the BX01 district which had the smallest recycling rates and big avarage bin distance. Apart from that, more that 85% of the districts had an avarage bin distance of less than 1 km which illustrates that NY city has done a good job providing recycling bins close to most of the houses.  \n",
    "\n",
    "Recycling behaviors appear to be a much more complex phenomenon, which would require a great deal more information in order to fully explain. However, the analysis has revealed a number of interesting patterns. \n",
    "\n",
    "One of the thinks that it was diffecult for us to deal with was that we had access to a lot of data and variables. That may seems good for a data analysis but most of them was irrelevant with our problem the thing was that we didnt had any in advance knowlege to help us choose better the variables that we analysis. So we end up choosing with our own criteria this that means that we may have lost some information due to our decisions. "
   ]
  },
  {
   "cell_type": "markdown",
   "id": "cab9db23",
   "metadata": {
    "cell_id": "4008646ac99b477691321a9131d96cdb",
    "deepnote_cell_type": "markdown",
    "tags": []
   },
   "source": [
    "#### Machine learning approach \n",
    "We have relied on a relatively large number of explainable variables in building the model explaining recycling behavior. \n",
    "Model improvement could be accomplished by adding additional features and removing irrelevant ones, which might contribute to explaining recycling behavior. In the project, we selected socioeconomic factors subjectively as the ones we found interesting, but we may have been able to make a more analytical choice out of the wide selection of factors found in the data sources.\n",
    "Our main goal from our model is to make some prediction on the totall recycling rates that we have using all of the data we had in our analysis and also adding more. Moreover, we tried to see what was the feature importance based on ML models and see if this can lead us to some intresting results. At this point we have to admit that it was difficult to make a value model and thats because we only had access to 59 observations. We think though that our aproach was well established and it could have had more valueble results if we also had access to data from other cities. "
   ]
  },
  {
   "cell_type": "markdown",
   "id": "4dfe5184",
   "metadata": {
    "cell_id": "199b989f0a944d919ff647e32d7aa739",
    "deepnote_cell_type": "markdown",
    "tags": []
   },
   "source": [
    " \n",
    "Overall, we were able to divide the work fairly equally among the group. Our team was able to acquire the necessary skills to implement those visualisations, and we are happy with the interactive and engaging results. The challenge has been to limit the content of visualisations in order to keep the user's attention - but still allow him to explore. Our best efforts were made, but maybe we could have narrowed it down even more in some areas and expanded the interactive aspects in others."
   ]
  },
  {
   "cell_type": "markdown",
   "id": "1797a5f3",
   "metadata": {
    "cell_id": "00099-55f53e3f-fbc2-482f-bd65-00974dc5fef4",
    "deepnote_cell_type": "markdown",
    "tags": []
   },
   "source": [
    "Contributions. Who did what?\n",
    "\n",
    "Spyridon Vlachospyros (s213160): Responsible for formatting the final notebook and most of its text. Responsible for interactive barplot, some plots in the begining and part of the reggresion. From the part A of the assignment was responsible for recording the video and colect some initial datasets\n",
    "\n",
    "Jonas Vestergaard (s162615) was responsible for finding appropiate additional data sets to accompany the recycling data, the initial exploratory analysis for part A of the assignment, creation of map plots, setting up the website, inserting content into the website, the plots in the website (except for the bar chart and machine learning plots) and for writing the text for the website.\n",
    "\n",
    "Elias Bobrowski (s216056): Responsible for making and formatting website, writing explainer notebook, data cleaning and research.Responsible for NYC districts and their public recycling bins interactive plot, regression model, and presentation for video introduction."
   ]
  },
  {
   "cell_type": "markdown",
   "id": "e88e9583",
   "metadata": {
    "cell_id": "00100-27e79760-10d9-4993-8216-6ccb74b313c9",
    "deepnote_cell_type": "markdown",
    "tags": []
   },
   "source": [
    "### Appendix\n"
   ]
  },
  {
   "cell_type": "code",
   "execution_count": null,
   "id": "624395a8",
   "metadata": {},
   "outputs": [],
   "source": []
  }
 ],
 "metadata": {
  "deepnote": {},
  "deepnote_execution_queue": [],
  "deepnote_notebook_id": "7456e274-9027-4520-846f-ea07d353392b",
  "kernelspec": {
   "display_name": "Python 3 (ipykernel)",
   "language": "python",
   "name": "python3"
  },
  "language_info": {
   "codemirror_mode": {
    "name": "ipython",
    "version": 3
   },
   "file_extension": ".py",
   "mimetype": "text/x-python",
   "name": "python",
   "nbconvert_exporter": "python",
   "pygments_lexer": "ipython3",
   "version": "3.8.8"
  }
 },
 "nbformat": 4,
 "nbformat_minor": 5
}
